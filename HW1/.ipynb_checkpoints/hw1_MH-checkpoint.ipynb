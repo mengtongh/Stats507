{
 "cells": [
  {
   "cell_type": "code",
   "execution_count": 1,
   "id": "92e9c481",
   "metadata": {
    "lines_to_next_cell": 1
   },
   "outputs": [],
   "source": [
    "# ## Homework 1\n",
    "# **Mengtong Hu **  \n",
    "# *September 9, 2021*\n",
    "# \n",
    "import math\n",
    "import time\n",
    "import statistics\n",
    "import pandas as pd\n",
    "from IPython.core.display import display, HTML\n",
    "from scipy import stats \n",
    "import numpy as np\n"
   ]
  },
  {
   "cell_type": "markdown",
   "id": "be33d6b2",
   "metadata": {},
   "source": [
    "### GSI comments: \n",
    "Q0: -3 for don't provide both raw and formatted versions\n"
   ]
  },
  {
   "cell_type": "markdown",
   "id": "satellite-fruit",
   "metadata": {},
   "source": [
    "## Question 1"
   ]
  },
  {
   "cell_type": "markdown",
   "id": "premier-voltage",
   "metadata": {},
   "source": [
    "***\n",
    "This is _question 0_ for [problem set 1](https://jbhender.github.io/Stats507/F21/ps/ps1.html) of [Stats 507](https://jbhender.github.io/Stats507/F21/).\n",
    "<blockquote>Question 0 is about Markdown.</blockquote>"
   ]
  },
  {
   "cell_type": "markdown",
   "id": "severe-salon",
   "metadata": {},
   "source": [
    "The next question is about the __Fibonnaci sequence__, $F_n=F_{n−2}+F_{n−1}$. In part __a__ we will define a Python function `fib_rec()`.\n",
    "<br>\n",
    "Below is a ...\n",
    "### Level 3 Header\n",
    "Next, we can make a bulleted list:\n",
    "- Item 1\n",
    "    * detail 1\n",
    "    * detail 2\n",
    "- Item 2\n",
    "<br>\n",
    "Finally, we can make an enumerated list:\n",
    "1. Item 1\n",
    "2. Item 2\n",
    "3. Item 3\n",
    "***\n",
    "```\n",
    "---\n",
    "The next question is about the __Fibonnaci sequence__, $F_n=F_{n−2}+F_{n−1}$. In part __a__ we will define a Python function `fib_rec()`.\n",
    "<br>\n",
    "Below is a ...\n",
    "### Level 3 Header\n",
    "Next, we can make a bulleted list:\n",
    "- Item 1\n",
    "    * detail 1\n",
    "    * detail 2\n",
    "- Item 2\n",
    "<br>\n",
    "Finally, we can make an enumerated list:\n",
    "1. Item 1\n",
    "2. Item 2\n",
    "3. Item 3\n",
    "***\n",
    "---\n",
    "```"
   ]
  },
  {
   "cell_type": "markdown",
   "id": "intelligent-economy",
   "metadata": {},
   "source": [
    "## Question 2 - Fibonnaci Sequence"
   ]
  },
  {
   "cell_type": "markdown",
   "id": "adjacent-characterization",
   "metadata": {},
   "source": [
    "We are going to present five ways to calculate Fibonnaci Sequence and test their correctness using `test_fib()`"
   ]
  },
  {
   "cell_type": "code",
   "execution_count": 2,
   "id": "informed-holocaust",
   "metadata": {},
   "outputs": [],
   "source": [
    "def test_fib(funcs):\n",
    "    \"\"\"\n",
    "    Use three test cases to test the correctness of the Fibonnaci Sequence functions:\n",
    "    \n",
    "    Parameters\n",
    "    ----------\n",
    "    funcs : Different Fibonnaci functions to test\n",
    "\n",
    "\n",
    "    Returns\n",
    "    -------\n",
    "    If the function passes all three test cases, pring the message\n",
    "\n",
    "    \"\"\"\n",
    "    assert funcs(7) == 13\n",
    "    assert funcs(11) == 89\n",
    "    assert funcs(13) == 233\n",
    "    return (funcs.__name__ + \" has passed all the test caes \" )"
   ]
  },
  {
   "cell_type": "markdown",
   "id": "choice-termination",
   "metadata": {},
   "source": [
    "- A recursive function calcuating Fibonnaci sequence"
   ]
  },
  {
   "cell_type": "code",
   "execution_count": 3,
   "id": "eeea5c54",
   "metadata": {
    "lines_to_next_cell": 1
   },
   "outputs": [],
   "source": [
    "def fib_rec(n):\n",
    "    \"\"\"\n",
    "    A recursive function calcuating Fibonnaci sequence\n",
    "\n",
    "    Parameters\n",
    "    ----------\n",
    "    n : integer\n",
    "        the nth Fibonnaci number in the sequence\n",
    "\n",
    "    Returns\n",
    "    -------\n",
    "    recursively calling fib_rec to calculte Fibonnaci number.\n",
    "    Will return the nth Fibonnaci number\n",
    "\n",
    "    \"\"\"\n",
    "    if n == 0:\n",
    "        return 0\n",
    "    if n == 1:\n",
    "        return 1\n",
    "    return(fib_rec(n-2) + fib_rec(n-1))"
   ]
  },
  {
   "cell_type": "markdown",
   "id": "incoming-chassis",
   "metadata": {},
   "source": [
    "- Test recursive function `fib_rec()`"
   ]
  },
  {
   "cell_type": "code",
   "execution_count": 4,
   "id": "7b1ef191",
   "metadata": {},
   "outputs": [
    {
     "name": "stdout",
     "output_type": "stream",
     "text": [
      "fib_rec has passed all the test caes \n"
     ]
    }
   ],
   "source": [
    "print(test_fib(fib_rec))"
   ]
  },
  {
   "cell_type": "markdown",
   "id": "employed-norway",
   "metadata": {},
   "source": [
    "- computes $F_n$ by summation using a for loop."
   ]
  },
  {
   "cell_type": "code",
   "execution_count": 5,
   "id": "9fbd3c5e",
   "metadata": {
    "lines_to_next_cell": 1
   },
   "outputs": [],
   "source": [
    "def fib_for(n):\n",
    "    \"\"\"\n",
    "    Compute Fibonnaci sequence using a for loop\n",
    "\n",
    "    Parameters\n",
    "    ----------\n",
    "    n : integer\n",
    "        the nth Fibonnaci number in the sequence\n",
    "\n",
    "    Returns\n",
    "    -------\n",
    "    the nth Fibonnaci number in the sequence\n",
    "\n",
    "    \"\"\"\n",
    "    res = [0, 1]\n",
    "    for i in range(n-1):\n",
    "        res.append(res[i] + res[i+1])\n",
    "    return res[n]"
   ]
  },
  {
   "cell_type": "markdown",
   "id": "economic-central",
   "metadata": {},
   "source": [
    "- Test `fib_for()`"
   ]
  },
  {
   "cell_type": "code",
   "execution_count": 6,
   "id": "monetary-tampa",
   "metadata": {},
   "outputs": [
    {
     "name": "stdout",
     "output_type": "stream",
     "text": [
      "fib_for has passed all the test caes \n"
     ]
    }
   ],
   "source": [
    "print(test_fib(fib_for))"
   ]
  },
  {
   "cell_type": "markdown",
   "id": "israeli-liberia",
   "metadata": {},
   "source": [
    "- computes $F_n$ by summation using a while loop."
   ]
  },
  {
   "cell_type": "code",
   "execution_count": 7,
   "id": "1489aa68",
   "metadata": {
    "lines_to_next_cell": 2
   },
   "outputs": [],
   "source": [
    "def fib_whl(n):\n",
    "    \"\"\"\n",
    "    Compute Fibonnaci sequence using a while loop\n",
    "\n",
    "    Parameters\n",
    "    ----------\n",
    "    n : integer\n",
    "        the nth Fibonnaci number in the sequence\n",
    "\n",
    "    Returns\n",
    "    -------\n",
    "    the nth Fibonnaci number in the sequence\n",
    "\n",
    "    \"\"\"\n",
    "    res = [0, 1]\n",
    "    i = 0\n",
    "    while i<n:\n",
    "        res.append(res[i] + res[i+1])\n",
    "        i = i + 1\n",
    "    return res[n]"
   ]
  },
  {
   "cell_type": "markdown",
   "id": "empty-participant",
   "metadata": {},
   "source": [
    "- Test recursive function `fib_for()`"
   ]
  },
  {
   "cell_type": "code",
   "execution_count": 8,
   "id": "induced-theology",
   "metadata": {},
   "outputs": [
    {
     "name": "stdout",
     "output_type": "stream",
     "text": [
      "fib_whl has passed all the test caes \n"
     ]
    }
   ],
   "source": [
    "print(test_fib(fib_whl))"
   ]
  },
  {
   "cell_type": "markdown",
   "id": "governmental-belly",
   "metadata": {},
   "source": [
    "- computes $F_n$ using the rounding method \n",
    "<br>\n",
    "We need to first define the constant $\\phi$"
   ]
  },
  {
   "cell_type": "code",
   "execution_count": 9,
   "id": "anticipated-railway",
   "metadata": {
    "lines_to_next_cell": 1
   },
   "outputs": [],
   "source": [
    "phi = (1 + math.sqrt(5)) / 2"
   ]
  },
  {
   "cell_type": "code",
   "execution_count": 10,
   "id": "sitting-incident",
   "metadata": {
    "lines_to_next_cell": 1
   },
   "outputs": [],
   "source": [
    "def fib_rnd(n):\n",
    "    \"\"\"\n",
    "    Compute Fibonnaci sequence using the rounding function\n",
    "\n",
    "    Parameters\n",
    "    ----------\n",
    "    n : integer\n",
    "        the nth Fibonnaci number in the sequence\n",
    "\n",
    "    Returns\n",
    "    -------\n",
    "    the nth Fibonnaci number in the sequence\n",
    "\n",
    "    \"\"\"\n",
    "    return (int(round(phi ** n / math.sqrt(5), ndigits=(0))))"
   ]
  },
  {
   "cell_type": "markdown",
   "id": "satisfied-numbers",
   "metadata": {},
   "source": [
    "- Test recursive function `fib_rnd()`"
   ]
  },
  {
   "cell_type": "code",
   "execution_count": 11,
   "id": "cellular-nicaragua",
   "metadata": {},
   "outputs": [
    {
     "name": "stdout",
     "output_type": "stream",
     "text": [
      "fib_rnd has passed all the test caes \n"
     ]
    }
   ],
   "source": [
    "print(test_fib(fib_rnd))  "
   ]
  },
  {
   "cell_type": "code",
   "execution_count": 12,
   "id": "77b42ebc",
   "metadata": {
    "lines_to_next_cell": 1
   },
   "outputs": [],
   "source": [
    "def fib_flr(n):\n",
    "    \"\"\"\n",
    "    Compute Fibonnaci sequence using the flooring function\n",
    "\n",
    "    Parameters\n",
    "    ----------\n",
    "    n : integer\n",
    "        the nth Fibonnaci number in the sequence\n",
    "\n",
    "    Returns\n",
    "    -------\n",
    "    the nth Fibonnaci number in the sequence\n",
    "\n",
    "    \"\"\"\n",
    "    return (int(phi ** n / math.sqrt(5) + 1/2))    "
   ]
  },
  {
   "cell_type": "markdown",
   "id": "adverse-sleep",
   "metadata": {},
   "source": [
    "- Test flooring function `fib_flr()`"
   ]
  },
  {
   "cell_type": "code",
   "execution_count": 13,
   "id": "96375ecb",
   "metadata": {
    "lines_to_next_cell": 1
   },
   "outputs": [
    {
     "name": "stdout",
     "output_type": "stream",
     "text": [
      "fib_flr has passed all the test caes \n"
     ]
    }
   ],
   "source": [
    "print(test_fib(fib_flr))   "
   ]
  },
  {
   "cell_type": "markdown",
   "id": "demanding-french",
   "metadata": {},
   "source": [
    "Now, we benchmark the running time of the three methods. For each function `fib_***()`and __n__ , we repeat the procedure 10 times and take the median runtime of the 10 repetitions."
   ]
  },
  {
   "cell_type": "code",
   "execution_count": 14,
   "id": "ce763e6b",
   "metadata": {
    "lines_to_next_cell": 1
   },
   "outputs": [],
   "source": [
    "def time_fib(funcs, n):\n",
    "    \"\"\"\n",
    "    Compute the median computation time of a Fibonnaci function\n",
    "\n",
    "    Parameters\n",
    "    ----------\n",
    "    n : integer\n",
    "        the nth Fibonnaci number in the sequence\n",
    "    funcs : Different Fibonnaci functions to test\n",
    "\n",
    "    Returns\n",
    "    -------\n",
    "    the median runtime in ms over 10 repetitions \n",
    "    of the same function call\n",
    "\n",
    "    \"\"\"\n",
    "    time_res = []\n",
    "    \n",
    "    for i in range(10):\n",
    "        start = time.perf_counter()\n",
    "        funcs(n) \n",
    "        time_res.append(time.perf_counter() - start)\n",
    "    return ( 1000 * statistics.median(time_res) )"
   ]
  },
  {
   "cell_type": "markdown",
   "id": "blank-equality",
   "metadata": {},
   "source": [
    "Use a dictionay `process_time` to store the median time of each of the five methods:"
   ]
  },
  {
   "cell_type": "code",
   "execution_count": 15,
   "id": "3b05be58",
   "metadata": {
    "lines_to_next_cell": 2
   },
   "outputs": [],
   "source": [
    "process_time = {'Recursive':[],\n",
    "                'For Loop':[],\n",
    "                'While Loop':[],\n",
    "                'Rounding':[],\n",
    "                'Truncating':[]}   \n",
    "for n in [5*i for i in range(1, 6)]:\n",
    "    process_time['Recursive'].append(time_fib(fib_rec,n))\n",
    "    process_time['For Loop'].append(time_fib(fib_for,n))\n",
    "    process_time['While Loop'].append(time_fib(fib_whl,n))\n",
    "    process_time['Rounding'].append(time_fib(fib_rnd,n))\n",
    "    process_time['Truncating'].append(time_fib(fib_flr,n))"
   ]
  },
  {
   "cell_type": "markdown",
   "id": "parliamentary-minnesota",
   "metadata": {},
   "source": [
    "Display the resutls in a table"
   ]
  },
  {
   "cell_type": "code",
   "execution_count": 16,
   "id": "568765b4",
   "metadata": {},
   "outputs": [
    {
     "data": {
      "text/html": [
       "<table border=\"1\" class=\"dataframe\">\n",
       "  <thead>\n",
       "    <tr style=\"text-align: right;\">\n",
       "      <th></th>\n",
       "      <th>n = 5</th>\n",
       "      <th>n = 10</th>\n",
       "      <th>n = 15</th>\n",
       "      <th>n =20</th>\n",
       "      <th>n = 25</th>\n",
       "    </tr>\n",
       "  </thead>\n",
       "  <tbody>\n",
       "    <tr>\n",
       "      <th>Recursive</th>\n",
       "      <td>0.003233</td>\n",
       "      <td>0.036168</td>\n",
       "      <td>0.439366</td>\n",
       "      <td>3.451568</td>\n",
       "      <td>36.204547</td>\n",
       "    </tr>\n",
       "    <tr>\n",
       "      <th>For Loop</th>\n",
       "      <td>0.001678</td>\n",
       "      <td>0.002784</td>\n",
       "      <td>0.004428</td>\n",
       "      <td>0.002871</td>\n",
       "      <td>0.003554</td>\n",
       "    </tr>\n",
       "    <tr>\n",
       "      <th>While Loop</th>\n",
       "      <td>0.001826</td>\n",
       "      <td>0.003346</td>\n",
       "      <td>0.005389</td>\n",
       "      <td>0.003419</td>\n",
       "      <td>0.004178</td>\n",
       "    </tr>\n",
       "    <tr>\n",
       "      <th>Rounding</th>\n",
       "      <td>0.001477</td>\n",
       "      <td>0.001461</td>\n",
       "      <td>0.001470</td>\n",
       "      <td>0.000821</td>\n",
       "      <td>0.000824</td>\n",
       "    </tr>\n",
       "    <tr>\n",
       "      <th>Truncating</th>\n",
       "      <td>0.000744</td>\n",
       "      <td>0.000762</td>\n",
       "      <td>0.000843</td>\n",
       "      <td>0.000452</td>\n",
       "      <td>0.000464</td>\n",
       "    </tr>\n",
       "  </tbody>\n",
       "</table>"
      ],
      "text/plain": [
       "<IPython.core.display.HTML object>"
      ]
     },
     "metadata": {},
     "output_type": "display_data"
    }
   ],
   "source": [
    "process_time_tb = pd.DataFrame.from_dict(process_time, orient = 'index',\n",
    "                                         columns=['n = 5', 'n = 10', 'n = 15', 'n =20', 'n = 25'])\n",
    "display(HTML(process_time_tb.to_html()))\n"
   ]
  },
  {
   "cell_type": "markdown",
   "id": "af484abf",
   "metadata": {},
   "source": [
    "The table presents the median run time in milliseconds for five methods we considered for $n = 5, 10 \\dots 25$. \n",
    "- Recusive funtion is the slowest and its run time grows really fast, depending on the sample size\n",
    "- Trucating method is the fastest and does not depend on the sample size. Rounding method has similar perforances.\n",
    "- For loop and While loop process slower as n increases"
   ]
  },
  {
   "cell_type": "markdown",
   "id": "biblical-liabilities",
   "metadata": {},
   "source": [
    "## Question 3 - Pascal’s Triangle"
   ]
  },
  {
   "cell_type": "markdown",
   "id": "smoking-synthetic",
   "metadata": {},
   "source": [
    "In `compute_pascal`, we compute an arbitrary row of the Pascal’s Triangle"
   ]
  },
  {
   "cell_type": "code",
   "execution_count": 17,
   "id": "forward-sterling",
   "metadata": {},
   "outputs": [
    {
     "name": "stdout",
     "output_type": "stream",
     "text": [
      "[1, 3, 3, 1]\n"
     ]
    }
   ],
   "source": [
    "def compute_pascal(n):\n",
    "    \"\"\"\n",
    "    Compute the nth row of Pascal’s triangle\n",
    "\n",
    "    Parameters\n",
    "    ----------\n",
    "    n : integer\n",
    "        which row too compute\n",
    "\n",
    "    Returns\n",
    "    -------\n",
    "    pascal_n : a list of integers\n",
    "        The nth row of Pascal’s triangle.\n",
    "\n",
    "    \"\"\"\n",
    "    pascal_n = [1]\n",
    "    prev = 1\n",
    "    for k in range(1,n+1):\n",
    "        cur = prev * (n+1-k)/k\n",
    "        pascal_n.append(int(cur))\n",
    "        prev = cur\n",
    "    return(pascal_n)\n",
    "print(compute_pascal(3))"
   ]
  },
  {
   "cell_type": "markdown",
   "id": "assisted-motorcycle",
   "metadata": {},
   "source": [
    "In `print_pascal`, we print the first __n__ rows of the Pascal’s Triangle."
   ]
  },
  {
   "cell_type": "code",
   "execution_count": 18,
   "id": "e29abb63",
   "metadata": {
    "lines_to_next_cell": 1
   },
   "outputs": [],
   "source": [
    "def print_pascal(n):\n",
    "    \"\"\"\n",
    "    print the firt n rows of Pascal’s triangle with proper spacing\n",
    "\n",
    "    Parameters\n",
    "    ----------\n",
    "    n : integer\n",
    "        The total numbers of rows \n",
    "\n",
    "    Returns\n",
    "    -------\n",
    "    None, but will print output\n",
    "        First n rows of Pascal’s triangle.\n",
    "\n",
    "    \"\"\"\n",
    "    for i in range(n) :\n",
    "        total_width = n * 4 + 1\n",
    "        front_space = (total_width - (i * 4)) // 2\n",
    "        print(' ' * front_space, end = '')\n",
    "        print('   '.join(map(str,compute_pascal(i))))\n",
    "\n",
    "    return"
   ]
  },
  {
   "cell_type": "markdown",
   "id": "scheduled-forge",
   "metadata": {},
   "source": [
    "Using `print_pascal` to print first 10 rows of the pascal triangle"
   ]
  },
  {
   "cell_type": "code",
   "execution_count": 19,
   "id": "870b6b97",
   "metadata": {
    "lines_to_next_cell": 1
   },
   "outputs": [
    {
     "name": "stdout",
     "output_type": "stream",
     "text": [
      "                    1\n",
      "                  1   1\n",
      "                1   2   1\n",
      "              1   3   3   1\n",
      "            1   4   6   4   1\n",
      "          1   5   10   10   5   1\n",
      "        1   6   15   20   15   6   1\n",
      "      1   7   21   35   35   21   7   1\n",
      "    1   8   28   56   70   56   28   8   1\n",
      "  1   9   36   84   126   126   84   36   9   1\n"
     ]
    }
   ],
   "source": [
    "print_pascal(10)"
   ]
  },
  {
   "cell_type": "markdown",
   "id": "smoking-handbook",
   "metadata": {},
   "source": [
    "### Question 3\n",
    "#### part a"
   ]
  },
  {
   "cell_type": "code",
   "execution_count": 31,
   "id": "01a71d4e",
   "metadata": {
    "lines_to_next_cell": 1
   },
   "outputs": [],
   "source": [
    "def ci_mean(a, level, output_format= True):\n",
    "    \"\"\"\n",
    "    print the firt n rows of Pascal’s triangle with proper spacing\n",
    "\n",
    "    Parameters\n",
    "    ----------\n",
    "    a : any obejct\n",
    "        the data which we constrcut confidence interval for\n",
    "    output_format : string, optional\n",
    "             determine the output format\n",
    "             Set to 'None' if want to return a dicionary. The Default is True.\n",
    "                 \n",
    "    level : int\n",
    "            confidence interval\n",
    "\n",
    "\n",
    "    Returns\n",
    "    -------\n",
    "    res : string, Default\n",
    "          preformatted\n",
    "    res : dictionary, when format = None or 'None'\n",
    "          with keys 'est', 'lwr', 'upr', and  'level'\n",
    "          \n",
    "    \"\"\"\n",
    "    try:\n",
    "        a = np.array(a)\n",
    "        a.astype(float)\n",
    "\n",
    "    except ValueError:         \n",
    "        print ('ValueError: Data input invalid. Use 1d Numpy arrary or',\n",
    "               'objects are coercable to 1d Numpy arrary.')\n",
    "        return\n",
    "\n",
    "    n = len(a)\n",
    "    # ddof parameter set to 1 in np.std() gives the samples standard deviation\n",
    "    se = np.std(a, ddof=1) / math.sqrt(n)\n",
    "    tail_prop = (100 - level) / 2 / 100\n",
    "    z_val = - stats.norm.ppf(tail_prop)\n",
    "    print(z_val)\n",
    "    print(se)\n",
    "    mean = sum(a) / n\n",
    "    lwr, upr  = mean - z_val * se, mean + z_val * se\n",
    "    res = {'est' : mean, 'lwr' : lwr, \n",
    "          'upr' : upr, 'level' : level}\n",
    "    ci_str = \"{est:.3f}[{level:.0f}%CI :  ({lwr:.3f},{upr:.3f})]\"\n",
    "    #unpack the values of the dictionary and apply the format\n",
    "    formatted_res = ci_str.format(**res)\n",
    "\n",
    "\n",
    "    if output_format == True :\n",
    "        res = formatted_res\n",
    "    \n",
    "    return(res)"
   ]
  },
  {
   "cell_type": "markdown",
   "id": "f3f10034",
   "metadata": {},
   "source": [
    "When the input format is an np.arrary:"
   ]
  },
  {
   "cell_type": "code",
   "execution_count": 21,
   "id": "0c052915",
   "metadata": {},
   "outputs": [
    {
     "name": "stdout",
     "output_type": "stream",
     "text": [
      "20.400[95%CI :  (17.072,23.728)]\n",
      "{'est': 20.4, 'lwr': 17.07163170120255, 'upr': 23.72836829879745, 'level': 95}\n"
     ]
    }
   ],
   "source": [
    "print(ci_mean(np.array([12, 12, 13, 13, 15, 16, 17, 22, 23, 25, 26, 27, 28, 28, 29]), 95))\n",
    "print(ci_mean(np.array([12, 12, 13, 13, 15, 16, 17, 22, 23, 25, 26, 27, 28, 28, 29]), 95, output_format = None))"
   ]
  },
  {
   "cell_type": "markdown",
   "id": "e24b8bd3",
   "metadata": {},
   "source": [
    "When the input format is not an array of float or int:"
   ]
  },
  {
   "cell_type": "code",
   "execution_count": 22,
   "id": "37a4f5cb",
   "metadata": {},
   "outputs": [
    {
     "name": "stdout",
     "output_type": "stream",
     "text": [
      "ValueError: Data input invalid. Use 1d Numpy arrary or objects are coercable to 1d Numpy arrary.\n"
     ]
    }
   ],
   "source": [
    "ci_mean(\"haa\", 95)"
   ]
  },
  {
   "cell_type": "markdown",
   "id": "fe05aab4",
   "metadata": {},
   "source": [
    "#### part b"
   ]
  },
  {
   "cell_type": "code",
   "execution_count": 23,
   "id": "c0f00d0a",
   "metadata": {
    "lines_to_next_cell": 2
   },
   "outputs": [],
   "source": [
    "def ci_proportion(a, level , Method, output_format = True ):\n",
    "    \"\"\"\n",
    "    print the firt n rows of Pascal’s triangle with proper spacing\n",
    "\n",
    "    Parameters\n",
    "    ----------\n",
    "    a : any obejct\n",
    "        the data which we constrcut confidence interval for\n",
    "    output_format : string, optional\n",
    "             determine the output format\n",
    "             Set to 'None' if want to return a dicionary. The Default is True.\n",
    "                 \n",
    "    level : int\n",
    "            confidence interval\n",
    "    Method : string\n",
    "             the method used to compute the CI. Possible values include \n",
    "             'Standard', 'Clopper-Pearson', 'Jeffrey', 'Agresti-Coull'\n",
    "\n",
    "    Returns\n",
    "    -------\n",
    "    res : string, Default\n",
    "          preformatted\n",
    "    res : dictionary, when format = 'None'\n",
    "          with keys 'est', 'lwr', 'upr', and  'level'\n",
    "          \n",
    "    \"\"\"\n",
    "    try:\n",
    "        a = np.array(a)\n",
    "        a.astype(float)\n",
    "    except ValueError:         \n",
    "        print('TypeError: Data input invalid. Use 1d Numpy arrary or objects are coercable to 1d Numpy arrary')\n",
    "        return()\n",
    "    #n :   the number of independent and iid Bernoulli trials\n",
    "    # x :  the number of sucesses\n",
    "    n = len(a)\n",
    "    x = sum(a)\n",
    "    p = x / n\n",
    "    alpha = 1 - level / 100\n",
    "    tail_prop = (100 - level) / 2 / 100\n",
    "    z_val = - stats.norm.ppf(tail_prop)\n",
    "    if Method == \"Standard\":\n",
    "        if n * p <= 12 or n * (1 - p) <= 12 :\n",
    "            raise ValueError('Proportion or same size too small and',\n",
    "                             'not satisfying n * p > 12 and n * (1 - p) > 12')\n",
    "        else: \n",
    "            se = math.sqrt(p * (1-p) / n)\n",
    "            lwr, upr  = p - z_val * se, p + z_val * se\n",
    "                             \n",
    "    if Method == \"Clopper-Pearson\":       \n",
    "        lwr, upr = stats.beta.ppf(alpha /2 , x , n - x + 1) , \\\n",
    "                   stats.beta.ppf(1 - alpha /2 , x + 1 , n - x)\n",
    "                             \n",
    "    if Method == \"Jeffrey\":\n",
    "        lwr, upr = max(stats.beta.ppf(alpha /2 , x , n - x + 1), 0) , \\\n",
    "                   min(stats.beta.ppf(1 - alpha /2 , x + 1 , n - x), 1)\n",
    "        \n",
    "    if Method == \"Agresti-Coull\":\n",
    "        n = n + z_val ** 2\n",
    "        x = x + z_val ** 2 / 2\n",
    "        p = x / n\n",
    "        se = math.sqrt(p * (1-p) / n)\n",
    "        lwr, upr  = p - z_val * se, p + z_val * se\n",
    "   \n",
    "    \n",
    "   \n",
    "    \n",
    "    res = {'est' : p, 'lwr' : lwr, \n",
    "          'upr' : upr, 'level' : level}\n",
    "    ci_str = \"{est:.3f}[{level:.0f}%CI :  ({lwr:.3f},{upr:.3f})]\"\n",
    "    formatted_res = ci_str.format(**res)\n",
    "\n",
    "\n",
    "    if output_format == True :\n",
    "        res = formatted_res\n",
    "    \n",
    "    return(res)\n"
   ]
  },
  {
   "cell_type": "markdown",
   "id": "47eb4949",
   "metadata": {},
   "source": [
    "- Create a 1d Numpy array with 42 ones and 48 zeros. "
   ]
  },
  {
   "cell_type": "code",
   "execution_count": 24,
   "id": "d98c88f0",
   "metadata": {},
   "outputs": [
    {
     "name": "stdout",
     "output_type": "stream",
     "text": [
      "[1. 1. 1. 1. 1. 1. 1. 1. 1. 1. 1. 1. 1. 1. 1. 1. 1. 1. 1. 1. 1. 1. 1. 1.\n",
      " 1. 1. 1. 1. 1. 1. 1. 1. 1. 1. 1. 1. 1. 1. 1. 1. 1. 1. 0. 0. 0. 0. 0. 0.\n",
      " 0. 0. 0. 0. 0. 0. 0. 0. 0. 0. 0. 0. 0. 0. 0. 0. 0. 0. 0. 0. 0. 0. 0. 0.\n",
      " 0. 0. 0. 0. 0. 0. 0. 0. 0. 0. 0. 0. 0. 0. 0. 0. 0. 0.]\n"
     ]
    }
   ],
   "source": [
    "input_one_zero = np.ones(42)\n",
    "input_one_zero = np.pad(input_one_zero, (0, 48), 'constant')\n",
    "print(input_one_zero)"
   ]
  },
  {
   "cell_type": "markdown",
   "id": "e7f45374",
   "metadata": {},
   "source": [
    "- Construct a nicely formatted table comparing $90\\%$, $95\\%$, and $99\\%$ confidence intervals using each of the methods above (including part a) on this data.\n",
    "- For each confidence level, which method produces the interval with the smallest width?"
   ]
  },
  {
   "cell_type": "code",
   "execution_count": 25,
   "id": "a0693398",
   "metadata": {},
   "outputs": [],
   "source": [
    "compare_ci = {'Normal theory for mean':[],\n",
    "                'Normal approximation for binomial distribution':[],\n",
    "                'Clopper-Pearson':[],\n",
    "                'Jeffrey':[],\n",
    "                'Agresti-Coull':[]}   \n",
    "for level in [90, 95, 99]:\n",
    "    ci_proportion(input_one_zero, level, Method = 'Standard')\n",
    "    compare_ci['Normal theory for mean'].append(ci_mean(input_one_zero, level))\n",
    "    compare_ci['Normal approximation for binomial distribution'].append(ci_proportion(input_one_zero, level, Method = 'Standard'))\n",
    "    for method in ['Clopper-Pearson','Jeffrey','Agresti-Coull']:\n",
    "        compare_ci[method].append(ci_proportion(input_one_zero, level, Method = method))\n"
   ]
  },
  {
   "cell_type": "code",
   "execution_count": 26,
   "id": "da72fa67",
   "metadata": {},
   "outputs": [
    {
     "data": {
      "text/html": [
       "<table border=\"1\" class=\"dataframe\">\n",
       "  <thead>\n",
       "    <tr style=\"text-align: right;\">\n",
       "      <th></th>\n",
       "      <th>confidence level = 90</th>\n",
       "      <th>confidence level = 95</th>\n",
       "      <th>confidence level = 99</th>\n",
       "    </tr>\n",
       "  </thead>\n",
       "  <tbody>\n",
       "    <tr>\n",
       "      <th>Normal theory for mean</th>\n",
       "      <td>0.467[90%CI :  (0.380,0.554)]</td>\n",
       "      <td>0.467[95%CI :  (0.363,0.570)]</td>\n",
       "      <td>0.467[99%CI :  (0.330,0.603)]</td>\n",
       "    </tr>\n",
       "    <tr>\n",
       "      <th>Normal approximation for binomial distribution</th>\n",
       "      <td>0.467[90%CI :  (0.380,0.553)]</td>\n",
       "      <td>0.467[95%CI :  (0.364,0.570)]</td>\n",
       "      <td>0.467[99%CI :  (0.331,0.602)]</td>\n",
       "    </tr>\n",
       "    <tr>\n",
       "      <th>Clopper-Pearson</th>\n",
       "      <td>0.467[90%CI :  (0.376,0.559)]</td>\n",
       "      <td>0.467[95%CI :  (0.361,0.575)]</td>\n",
       "      <td>0.467[99%CI :  (0.331,0.606)]</td>\n",
       "    </tr>\n",
       "    <tr>\n",
       "      <th>Jeffrey</th>\n",
       "      <td>0.467[90%CI :  (0.376,0.559)]</td>\n",
       "      <td>0.467[95%CI :  (0.361,0.575)]</td>\n",
       "      <td>0.467[99%CI :  (0.331,0.606)]</td>\n",
       "    </tr>\n",
       "    <tr>\n",
       "      <th>Agresti-Coull</th>\n",
       "      <td>0.468[90%CI :  (0.382,0.553)]</td>\n",
       "      <td>0.468[95%CI :  (0.367,0.569)]</td>\n",
       "      <td>0.469[99%CI :  (0.338,0.600)]</td>\n",
       "    </tr>\n",
       "  </tbody>\n",
       "</table>"
      ],
      "text/plain": [
       "<IPython.core.display.HTML object>"
      ]
     },
     "metadata": {},
     "output_type": "display_data"
    }
   ],
   "source": [
    "compare_ci_tb = pd.DataFrame.from_dict(compare_ci, orient = 'index',\n",
    "                                         columns=['confidence level = 90', 'confidence level = 95', 'confidence level = 99'])\n",
    "display(HTML(compare_ci_tb.to_html()))\n"
   ]
  },
  {
   "cell_type": "code",
   "execution_count": 32,
   "id": "9655a48a",
   "metadata": {},
   "outputs": [
    {
     "name": "stdout",
     "output_type": "stream",
     "text": [
      "1.9599639845400545\n",
      "0.5773502691896258\n"
     ]
    },
    {
     "data": {
      "text/plain": [
       "'2.000[95%CI :  (0.868,3.132)]'"
      ]
     },
     "execution_count": 32,
     "metadata": {},
     "output_type": "execute_result"
    }
   ],
   "source": [
    "ci_mean([1,2,3],95)"
   ]
  },
  {
   "cell_type": "markdown",
   "id": "77e5e023",
   "metadata": {},
   "source": [
    "- For all Confidence levels, Agresti-Coull gives the smallest width\n"
   ]
  }
 ],
 "metadata": {
  "jupytext": {
   "cell_metadata_json": true,
   "notebook_metadata_filter": "markdown"
  },
  "kernelspec": {
   "display_name": "Python 3 (ipykernel)",
   "language": "python",
   "name": "python3"
  },
  "language_info": {
   "codemirror_mode": {
    "name": "ipython",
    "version": 3
   },
   "file_extension": ".py",
   "mimetype": "text/x-python",
   "name": "python",
   "nbconvert_exporter": "python",
   "pygments_lexer": "ipython3",
   "version": "3.9.7"
  },
  "markdown": {
   "extensions": "footnotes"
  }
 },
 "nbformat": 4,
 "nbformat_minor": 5
}
