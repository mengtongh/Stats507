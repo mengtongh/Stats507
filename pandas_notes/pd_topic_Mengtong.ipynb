{
 "cells": [
  {
   "cell_type": "markdown",
   "id": "d8052b22",
   "metadata": {},
   "source": [
    "## Mengtong Hu mengtong@umich.edu"
   ]
  },
  {
   "cell_type": "code",
   "execution_count": 118,
   "id": "e3360a82",
   "metadata": {},
   "outputs": [],
   "source": [
    "import pandas as pd\n",
    "import numpy as np\n",
    "import statsmodels.api as sm\n",
    "import statsmodels.formula.api as smf\n",
    "import scipy.stats as stats\n",
    "import matplotlib.pyplot as plt\n",
    "from matplotlib import rcParams"
   ]
  },
  {
   "cell_type": "markdown",
   "id": "950bcb53",
   "metadata": {},
   "source": [
    "## Qestion 0 - Topics in Pandas"
   ]
  },
  {
   "cell_type": "markdown",
   "id": "e8e1062a",
   "metadata": {},
   "source": [
    "### Windowing Operations"
   ]
  },
  {
   "cell_type": "markdown",
   "id": "9420a784",
   "metadata": {},
   "source": [
    "- an operation that perfroms an aggregation over a sliding\n",
    "  partition of values on Series or DataFrame, similar to `groubby`."
   ]
  },
  {
   "cell_type": "markdown",
   "id": "e15760e8",
   "metadata": {},
   "source": [
    "### Windowing Operations"
   ]
  },
  {
   "cell_type": "markdown",
   "id": "dba0041d",
   "metadata": {},
   "source": [
    "- Specify the window=n argument in `.rolling()` for the window size. \n",
    "- After specifiying the window size, apply the appropriate\n",
    "  statistical function on top of it. Examples of statistical\n",
    "  functions include: `.sum()`, `.mean()`, `.median()`, `.var()`, `.corr()`.\n",
    "- If the offest is based on a time based column such as 'window = \"2D\"', the correspond\n",
    "    time based index must be monotonic.\n",
    "- The example below computes the sum of 'A' for previous 2 days"
   ]
  },
  {
   "cell_type": "code",
   "execution_count": 2,
   "id": "a796d2ce",
   "metadata": {},
   "outputs": [
    {
     "data": {
      "text/html": [
       "<div>\n",
       "<style scoped>\n",
       "    .dataframe tbody tr th:only-of-type {\n",
       "        vertical-align: middle;\n",
       "    }\n",
       "\n",
       "    .dataframe tbody tr th {\n",
       "        vertical-align: top;\n",
       "    }\n",
       "\n",
       "    .dataframe thead th {\n",
       "        text-align: right;\n",
       "    }\n",
       "</style>\n",
       "<table border=\"1\" class=\"dataframe\">\n",
       "  <thead>\n",
       "    <tr style=\"text-align: right;\">\n",
       "      <th></th>\n",
       "      <th>A</th>\n",
       "      <th>default sum</th>\n",
       "    </tr>\n",
       "  </thead>\n",
       "  <tbody>\n",
       "    <tr>\n",
       "      <th>2000-01-01</th>\n",
       "      <td>0</td>\n",
       "      <td>NaN</td>\n",
       "    </tr>\n",
       "    <tr>\n",
       "      <th>2000-01-02</th>\n",
       "      <td>1</td>\n",
       "      <td>NaN</td>\n",
       "    </tr>\n",
       "    <tr>\n",
       "      <th>2000-01-03</th>\n",
       "      <td>2</td>\n",
       "      <td>3.0</td>\n",
       "    </tr>\n",
       "    <tr>\n",
       "      <th>2000-01-04</th>\n",
       "      <td>3</td>\n",
       "      <td>6.0</td>\n",
       "    </tr>\n",
       "    <tr>\n",
       "      <th>2000-01-05</th>\n",
       "      <td>4</td>\n",
       "      <td>9.0</td>\n",
       "    </tr>\n",
       "    <tr>\n",
       "      <th>2000-01-06</th>\n",
       "      <td>5</td>\n",
       "      <td>12.0</td>\n",
       "    </tr>\n",
       "    <tr>\n",
       "      <th>2000-01-07</th>\n",
       "      <td>6</td>\n",
       "      <td>15.0</td>\n",
       "    </tr>\n",
       "    <tr>\n",
       "      <th>2000-01-08</th>\n",
       "      <td>7</td>\n",
       "      <td>18.0</td>\n",
       "    </tr>\n",
       "    <tr>\n",
       "      <th>2000-01-09</th>\n",
       "      <td>8</td>\n",
       "      <td>21.0</td>\n",
       "    </tr>\n",
       "    <tr>\n",
       "      <th>2000-01-10</th>\n",
       "      <td>9</td>\n",
       "      <td>24.0</td>\n",
       "    </tr>\n",
       "  </tbody>\n",
       "</table>\n",
       "</div>"
      ],
      "text/plain": [
       "            A  default sum\n",
       "2000-01-01  0          NaN\n",
       "2000-01-02  1          NaN\n",
       "2000-01-03  2          3.0\n",
       "2000-01-04  3          6.0\n",
       "2000-01-05  4          9.0\n",
       "2000-01-06  5         12.0\n",
       "2000-01-07  6         15.0\n",
       "2000-01-08  7         18.0\n",
       "2000-01-09  8         21.0\n",
       "2000-01-10  9         24.0"
      ]
     },
     "execution_count": 2,
     "metadata": {},
     "output_type": "execute_result"
    }
   ],
   "source": [
    "df = pd.DataFrame(np.arange(10),\n",
    "   index = pd.date_range('1/1/2000', periods=10),\n",
    "   columns = ['A'])\n",
    "df['default sum'] = df['A'].rolling(window=3).sum()\n",
    "df"
   ]
  },
  {
   "cell_type": "markdown",
   "id": "0b5b6d7c",
   "metadata": {},
   "source": [
    "### Windowing Operations"
   ]
  },
  {
   "cell_type": "markdown",
   "id": "dd31d922",
   "metadata": {},
   "source": [
    "- The closed parameter in `.rolling()` is used to decide the inclusions\n",
    "    of the interval endpoints in rolling window \n",
    "    - 'right' close right endpoint\n",
    "    - 'left' close left endpoint\n",
    "    - 'both' close both endpoints\n",
    "    - 'neither' open endpoints"
   ]
  },
  {
   "cell_type": "code",
   "execution_count": 3,
   "id": "ca53231a",
   "metadata": {},
   "outputs": [
    {
     "data": {
      "text/html": [
       "<div>\n",
       "<style scoped>\n",
       "    .dataframe tbody tr th:only-of-type {\n",
       "        vertical-align: middle;\n",
       "    }\n",
       "\n",
       "    .dataframe tbody tr th {\n",
       "        vertical-align: top;\n",
       "    }\n",
       "\n",
       "    .dataframe thead th {\n",
       "        text-align: right;\n",
       "    }\n",
       "</style>\n",
       "<table border=\"1\" class=\"dataframe\">\n",
       "  <thead>\n",
       "    <tr style=\"text-align: right;\">\n",
       "      <th></th>\n",
       "      <th>A</th>\n",
       "      <th>default sum</th>\n",
       "      <th>right</th>\n",
       "      <th>both</th>\n",
       "      <th>left</th>\n",
       "      <th>neither</th>\n",
       "    </tr>\n",
       "  </thead>\n",
       "  <tbody>\n",
       "    <tr>\n",
       "      <th>2000-01-01</th>\n",
       "      <td>0</td>\n",
       "      <td>NaN</td>\n",
       "      <td>0.0</td>\n",
       "      <td>0.0</td>\n",
       "      <td>NaN</td>\n",
       "      <td>NaN</td>\n",
       "    </tr>\n",
       "    <tr>\n",
       "      <th>2000-01-02</th>\n",
       "      <td>1</td>\n",
       "      <td>NaN</td>\n",
       "      <td>1.0</td>\n",
       "      <td>1.0</td>\n",
       "      <td>0.0</td>\n",
       "      <td>0.0</td>\n",
       "    </tr>\n",
       "    <tr>\n",
       "      <th>2000-01-03</th>\n",
       "      <td>2</td>\n",
       "      <td>3.0</td>\n",
       "      <td>3.0</td>\n",
       "      <td>3.0</td>\n",
       "      <td>1.0</td>\n",
       "      <td>1.0</td>\n",
       "    </tr>\n",
       "    <tr>\n",
       "      <th>2000-01-04</th>\n",
       "      <td>3</td>\n",
       "      <td>6.0</td>\n",
       "      <td>5.0</td>\n",
       "      <td>6.0</td>\n",
       "      <td>3.0</td>\n",
       "      <td>2.0</td>\n",
       "    </tr>\n",
       "    <tr>\n",
       "      <th>2000-01-05</th>\n",
       "      <td>4</td>\n",
       "      <td>9.0</td>\n",
       "      <td>7.0</td>\n",
       "      <td>9.0</td>\n",
       "      <td>5.0</td>\n",
       "      <td>3.0</td>\n",
       "    </tr>\n",
       "    <tr>\n",
       "      <th>2000-01-06</th>\n",
       "      <td>5</td>\n",
       "      <td>12.0</td>\n",
       "      <td>9.0</td>\n",
       "      <td>12.0</td>\n",
       "      <td>7.0</td>\n",
       "      <td>4.0</td>\n",
       "    </tr>\n",
       "    <tr>\n",
       "      <th>2000-01-07</th>\n",
       "      <td>6</td>\n",
       "      <td>15.0</td>\n",
       "      <td>11.0</td>\n",
       "      <td>15.0</td>\n",
       "      <td>9.0</td>\n",
       "      <td>5.0</td>\n",
       "    </tr>\n",
       "    <tr>\n",
       "      <th>2000-01-08</th>\n",
       "      <td>7</td>\n",
       "      <td>18.0</td>\n",
       "      <td>13.0</td>\n",
       "      <td>18.0</td>\n",
       "      <td>11.0</td>\n",
       "      <td>6.0</td>\n",
       "    </tr>\n",
       "    <tr>\n",
       "      <th>2000-01-09</th>\n",
       "      <td>8</td>\n",
       "      <td>21.0</td>\n",
       "      <td>15.0</td>\n",
       "      <td>21.0</td>\n",
       "      <td>13.0</td>\n",
       "      <td>7.0</td>\n",
       "    </tr>\n",
       "    <tr>\n",
       "      <th>2000-01-10</th>\n",
       "      <td>9</td>\n",
       "      <td>24.0</td>\n",
       "      <td>17.0</td>\n",
       "      <td>24.0</td>\n",
       "      <td>15.0</td>\n",
       "      <td>8.0</td>\n",
       "    </tr>\n",
       "  </tbody>\n",
       "</table>\n",
       "</div>"
      ],
      "text/plain": [
       "            A  default sum  right  both  left  neither\n",
       "2000-01-01  0          NaN    0.0   0.0   NaN      NaN\n",
       "2000-01-02  1          NaN    1.0   1.0   0.0      0.0\n",
       "2000-01-03  2          3.0    3.0   3.0   1.0      1.0\n",
       "2000-01-04  3          6.0    5.0   6.0   3.0      2.0\n",
       "2000-01-05  4          9.0    7.0   9.0   5.0      3.0\n",
       "2000-01-06  5         12.0    9.0  12.0   7.0      4.0\n",
       "2000-01-07  6         15.0   11.0  15.0   9.0      5.0\n",
       "2000-01-08  7         18.0   13.0  18.0  11.0      6.0\n",
       "2000-01-09  8         21.0   15.0  21.0  13.0      7.0\n",
       "2000-01-10  9         24.0   17.0  24.0  15.0      8.0"
      ]
     },
     "execution_count": 3,
     "metadata": {},
     "output_type": "execute_result"
    }
   ],
   "source": [
    "offset = '2D'\n",
    "df[\"right\"] = df.rolling(offset, closed=\"right\").A.sum()  # default\n",
    "df[\"both\"] = df.rolling(offset, closed=\"both\").A.sum()\n",
    "df[\"left\"] = df.rolling(offset, closed=\"left\").A.sum()\n",
    "df[\"neither\"] = df.rolling(offset, closed=\"neither\").A.sum()\n",
    "df"
   ]
  },
  {
   "cell_type": "markdown",
   "id": "cda4ded5",
   "metadata": {},
   "source": [
    "### Windowing Operations\n",
    "- `.apply()` function takes an extra func argument and performs self-defined rolling computations."
   ]
  }
 ],
 "metadata": {
  "kernelspec": {
   "display_name": "Python 3 (ipykernel)",
   "language": "python",
   "name": "python3"
  },
  "language_info": {
   "codemirror_mode": {
    "name": "ipython",
    "version": 3
   },
   "file_extension": ".py",
   "mimetype": "text/x-python",
   "name": "python",
   "nbconvert_exporter": "python",
   "pygments_lexer": "ipython3",
   "version": "3.9.7"
  }
 },
 "nbformat": 4,
 "nbformat_minor": 5
}
