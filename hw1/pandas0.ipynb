{
 "cells": [
  {
   "cell_type": "markdown",
   "id": "6e549694",
   "metadata": {
    "slideshow": {
     "slide_type": "slide"
    }
   },
   "source": [
    "## Pandas, Part 0\n",
    "*Stats 507, Fall 2021*\n",
    "\n",
    "James Henderson, PhD  \n",
    "September 16, 2021"
   ]
  },
  {
   "cell_type": "markdown",
   "id": "e6bb641b",
   "metadata": {
    "slideshow": {
     "slide_type": "slide"
    }
   },
   "source": [
    "## Overview\n",
    "- [About](#/slide-2-0)\n",
    "- [I/O](#/slide-5-0)\n",
    "- [The `series` class](#/slide-6-0)\n",
    "- [The `DataFrame` class](#/slide-7-0)\n",
    "- [Selcting rows and columns](#/slide-9-0)"
   ]
  },
  {
   "cell_type": "markdown",
   "id": "53d1434a",
   "metadata": {
    "slideshow": {
     "slide_type": "slide"
    }
   },
   "source": [
    "## Pandas\n",
    "- [Pandas](https://pandas.pydata.org/) is a Python library that facilitates:\n",
    "   + working with rectangular data frames, \n",
    "   + reading and writing data,\n",
    "   + aggregation by group,\n",
    "   + much else.\n",
    "- Pandas is a core library for data analysts working in Python.   "
   ]
  },
  {
   "cell_type": "markdown",
   "id": "57a6fb73",
   "metadata": {
    "slideshow": {
     "slide_type": "slide"
    }
   },
   "source": [
    "## Canonical Import\n",
    " - `import pandas as pd`\n",
    " - In the reading, Wes McKinney suggests: \n",
    "   `from pandas import Series, DataFrame`\n",
    " - I won't (usually) do this, but you can if wanted on problem sets. "
   ]
  },
  {
   "cell_type": "code",
   "execution_count": 1,
   "id": "736637e5",
   "metadata": {
    "lines_to_next_cell": 0,
    "slideshow": {
     "slide_type": "code"
    }
   },
   "outputs": [
    {
     "data": {
      "text/plain": [
       "'1.3.2'"
      ]
     },
     "execution_count": 1,
     "metadata": {},
     "output_type": "execute_result"
    }
   ],
   "source": [
    "import numpy as np\n",
    "import pandas as pd\n",
    "pd.__version__"
   ]
  },
  {
   "cell_type": "markdown",
   "id": "d18aae0b",
   "metadata": {
    "slideshow": {
     "slide_type": "slide"
    }
   },
   "source": [
    "## Tidy Rectangular Data\n",
    " - Rectangular datasets are a staple of data analysis.\n",
    " - A dataset is \"tidy\" if each row is an observation and each column is\n",
    "   a variable.\n",
    " - The distinction between \"observation\" and \"variable\" can depend on \n",
    "   context - work to develop your intuition on this front.\n",
    " - Don't store \"data\" in column names.\n",
    " - pandas [cheat sheet](https://pandas.pydata.org/Pandas_Cheat_Sheet.pdf)"
   ]
  },
  {
   "cell_type": "markdown",
   "id": "9e9414e2",
   "metadata": {
    "slideshow": {
     "slide_type": "slide"
    }
   },
   "source": [
    "## I/O for Rectangular Data\n",
    " - The easiest way to read rectangular data, delimited and otherwise,\n",
    "    into Python is using a pandas `pd.read_*()` function.\n",
    " - `pd.read_csv()` accepts a filename, including remote URLs.\n",
    " -  Write data to file using a pandas object's `.to_*()` methods.   "
   ]
  },
  {
   "cell_type": "markdown",
   "id": "5dfef7a9",
   "metadata": {
    "slideshow": {
     "slide_type": "slide"
    }
   },
   "source": [
    "## Series\n",
    "- A pandas `Series` is a fixed-length, ordered dictionary. \n",
    "- `Series` are closely related to the `DataFrame` class. \n",
    "- Series are indexed, with the index (keys) mapping to values. \n",
    "- Use the `pd.Series()` constructor with a `dict`. "
   ]
  },
  {
   "cell_type": "code",
   "execution_count": 2,
   "id": "63329030",
   "metadata": {
    "slideshow": {
     "slide_type": "code"
    }
   },
   "outputs": [
    {
     "data": {
      "text/plain": [
       "airport\n",
       "LGA    East Elmhurst\n",
       "JFK          Jamaica\n",
       "EWR           Newark\n",
       "Name: city, dtype: object"
      ]
     },
     "execution_count": 2,
     "metadata": {},
     "output_type": "execute_result"
    }
   ],
   "source": [
    "nyc_air = pd.Series(\n",
    "    {'LGA': 'East Elmhurst', 'JFK': 'Jamaica', 'EWR': 'Newark'})\n",
    "nyc_air.index.name = 'airport'\n",
    "nyc_air.name = 'city'\n",
    "nyc_air"
   ]
  },
  {
   "cell_type": "markdown",
   "id": "2fbf48b6",
   "metadata": {
    "slideshow": {
     "slide_type": "slide"
    }
   },
   "source": [
    "## DataFrames\n",
    "- The pandas `DataFrame` class is the primary way of representing \n",
    "  heterogeneous, rectangular data in Python.  \n",
    "- A `DataFrame` can be thought of as an ordered dictionary of `Series` \n",
    "  (columns) with a shared index (rown ames). \n",
    "- *Rectangular* means all the columns (Series) have the same length.  \n",
    "- We will use DataFrames heavily in this class going forward. "
   ]
  },
  {
   "cell_type": "markdown",
   "id": "9c5fab6c",
   "metadata": {
    "slideshow": {
     "slide_type": "slide"
    }
   },
   "source": [
    "## The DataFrame Constructor\n",
    "- A common way to construct a `DataFrame` directly from data is\n",
    "  to pass a `dict` of equal length lists, NumPy arrays, or `Series`,\n",
    "  to `pd.DataFrame()`.\n",
    "- Use the `columns` argument to order the columns."
   ]
  },
  {
   "cell_type": "code",
   "execution_count": 3,
   "id": "7caaf96a",
   "metadata": {
    "slideshow": {
     "slide_type": "code"
    }
   },
   "outputs": [
    {
     "data": {
      "text/html": [
       "<div>\n",
       "<style scoped>\n",
       "    .dataframe tbody tr th:only-of-type {\n",
       "        vertical-align: middle;\n",
       "    }\n",
       "\n",
       "    .dataframe tbody tr th {\n",
       "        vertical-align: top;\n",
       "    }\n",
       "\n",
       "    .dataframe thead th {\n",
       "        text-align: right;\n",
       "    }\n",
       "</style>\n",
       "<table border=\"1\" class=\"dataframe\">\n",
       "  <thead>\n",
       "    <tr style=\"text-align: right;\">\n",
       "      <th></th>\n",
       "      <th>city</th>\n",
       "      <th>wiki</th>\n",
       "    </tr>\n",
       "  </thead>\n",
       "  <tbody>\n",
       "    <tr>\n",
       "      <th>EWR</th>\n",
       "      <td>Newark</td>\n",
       "      <td>https://en.wikipedia.org/wiki/Newark_Liberty_I...</td>\n",
       "    </tr>\n",
       "    <tr>\n",
       "      <th>JFK</th>\n",
       "      <td>Jamaica</td>\n",
       "      <td>https://en.wikipedia.org/wiki/John_F._Kennedy_...</td>\n",
       "    </tr>\n",
       "    <tr>\n",
       "      <th>LGA</th>\n",
       "      <td>East Elmhurst</td>\n",
       "      <td>https://en.wikipedia.org/wiki/LaGuardia_Airport</td>\n",
       "    </tr>\n",
       "  </tbody>\n",
       "</table>\n",
       "</div>"
      ],
      "text/plain": [
       "              city                                               wiki\n",
       "EWR         Newark  https://en.wikipedia.org/wiki/Newark_Liberty_I...\n",
       "JFK        Jamaica  https://en.wikipedia.org/wiki/John_F._Kennedy_...\n",
       "LGA  East Elmhurst    https://en.wikipedia.org/wiki/LaGuardia_Airport"
      ]
     },
     "execution_count": 3,
     "metadata": {},
     "output_type": "execute_result"
    }
   ],
   "source": [
    "wiki = pd.Series({\n",
    "    'LGA': 'https://en.wikipedia.org/wiki/LaGuardia_Airport',\n",
    "    'EWR': 'https://en.wikipedia.org/wiki/Newark_Liberty_International_Airport',\n",
    "    'JFK': 'https://en.wikipedia.org/wiki/John_F._Kennedy_International_Airport'\n",
    "})\n",
    "df = pd.DataFrame({'city': nyc_air, 'wiki': wiki})\n",
    "df"
   ]
  },
  {
   "cell_type": "markdown",
   "id": "c7c2d514",
   "metadata": {
    "slideshow": {
     "slide_type": "slide"
    }
   },
   "source": [
    "## Select Columns ... \n",
    "- by name using `[]` with a string (caution) or list of strings,\n",
    "- by positon using the `.iloc[:, 0:2]` indexer,\n",
    "- by name using the `.loc[:, [\"col1\", \"col2\"]` indexer.\n",
    "- Columns with valid Python names an be accessed as attributes, e.g. `df.column`\n",
    "  (but don't). "
   ]
  },
  {
   "cell_type": "code",
   "execution_count": 4,
   "id": "88de1cfa",
   "metadata": {
    "slideshow": {
     "slide_type": "code"
    }
   },
   "outputs": [
    {
     "data": {
      "text/plain": [
       "[(True, False), (pandas.core.series.Series, pandas.core.frame.DataFrame)]"
      ]
     },
     "execution_count": 4,
     "metadata": {},
     "output_type": "execute_result"
    }
   ],
   "source": [
    "city = df['city']\n",
    "#return a panads series which is a view\n",
    "city2 = df['city'].copy()\n",
    "df_city = df[['city']]\n",
    "#get a new copy when return a dataframe\n",
    "[(city is df['city'], df_city is df[['city']]), (type(city), type(df_city))]"
   ]
  },
  {
   "cell_type": "markdown",
   "id": "a0eeaa79",
   "metadata": {
    "slideshow": {
     "slide_type": "subslide"
    }
   },
   "source": [
    "## Select Columns ... \n",
    "- by name using `[]` with a string (caution) or list of strings,\n",
    "- by positon using the `.iloc[:, 0:2]` indexer,\n",
    "- by name using the `.loc[:, [\"col1\", \"col2\"]` indexer.\n",
    "- Columns with valid Python names an be accessed as attributes, e.g. `df.column`\n",
    "  (but don't). "
   ]
  },
  {
   "cell_type": "code",
   "execution_count": 6,
   "id": "b5c455c3",
   "metadata": {
    "slideshow": {
     "slide_type": "code"
    }
   },
   "outputs": [
    {
     "data": {
      "text/html": [
       "<div>\n",
       "<style scoped>\n",
       "    .dataframe tbody tr th:only-of-type {\n",
       "        vertical-align: middle;\n",
       "    }\n",
       "\n",
       "    .dataframe tbody tr th {\n",
       "        vertical-align: top;\n",
       "    }\n",
       "\n",
       "    .dataframe thead th {\n",
       "        text-align: right;\n",
       "    }\n",
       "</style>\n",
       "<table border=\"1\" class=\"dataframe\">\n",
       "  <thead>\n",
       "    <tr style=\"text-align: right;\">\n",
       "      <th></th>\n",
       "      <th>city</th>\n",
       "      <th>wiki</th>\n",
       "    </tr>\n",
       "  </thead>\n",
       "  <tbody>\n",
       "    <tr>\n",
       "      <th>EWR</th>\n",
       "      <td>Newark</td>\n",
       "      <td>https://en.wikipedia.org/wiki/Newark_Liberty_I...</td>\n",
       "    </tr>\n",
       "    <tr>\n",
       "      <th>JFK</th>\n",
       "      <td>NYC</td>\n",
       "      <td>https://en.wikipedia.org/wiki/John_F._Kennedy_...</td>\n",
       "    </tr>\n",
       "    <tr>\n",
       "      <th>LGA</th>\n",
       "      <td>NYC</td>\n",
       "      <td>https://en.wikipedia.org/wiki/LaGuardia_Airport</td>\n",
       "    </tr>\n",
       "  </tbody>\n",
       "</table>\n",
       "</div>"
      ],
      "text/plain": [
       "       city                                               wiki\n",
       "EWR  Newark  https://en.wikipedia.org/wiki/Newark_Liberty_I...\n",
       "JFK     NYC  https://en.wikipedia.org/wiki/John_F._Kennedy_...\n",
       "LGA     NYC    https://en.wikipedia.org/wiki/LaGuardia_Airport"
      ]
     },
     "execution_count": 6,
     "metadata": {},
     "output_type": "execute_result"
    }
   ],
   "source": [
    "df.loc[[\"JFK\", \"LGA\"], \"city\"] = \"NYC\"  # always returns a view\n",
    "df"
   ]
  },
  {
   "cell_type": "markdown",
   "id": "09830665",
   "metadata": {
    "slideshow": {
     "slide_type": "subslide"
    }
   },
   "source": [
    "## Create/Modify Columns\n",
    "- Assign to a selected column to modify (or create) it. \n",
    "- To delete a column use the `del` keyword or (better) the \n",
    "  `.drop(columns='col', inplace=True)` method. \n",
    "- Style \"rule\" - prefer (exposed) methods when available. "
   ]
  },
  {
   "cell_type": "code",
   "execution_count": 7,
   "id": "4526d342",
   "metadata": {
    "slideshow": {
     "slide_type": "code"
    }
   },
   "outputs": [
    {
     "data": {
      "text/html": [
       "<div>\n",
       "<style scoped>\n",
       "    .dataframe tbody tr th:only-of-type {\n",
       "        vertical-align: middle;\n",
       "    }\n",
       "\n",
       "    .dataframe tbody tr th {\n",
       "        vertical-align: top;\n",
       "    }\n",
       "\n",
       "    .dataframe thead th {\n",
       "        text-align: right;\n",
       "    }\n",
       "</style>\n",
       "<table border=\"1\" class=\"dataframe\">\n",
       "  <thead>\n",
       "    <tr style=\"text-align: right;\">\n",
       "      <th></th>\n",
       "      <th>b</th>\n",
       "      <th>d</th>\n",
       "    </tr>\n",
       "  </thead>\n",
       "  <tbody>\n",
       "    <tr>\n",
       "      <th>0</th>\n",
       "      <td>0.00</td>\n",
       "      <td>0.00</td>\n",
       "    </tr>\n",
       "    <tr>\n",
       "      <th>1</th>\n",
       "      <td>1.25</td>\n",
       "      <td>2.25</td>\n",
       "    </tr>\n",
       "    <tr>\n",
       "      <th>2</th>\n",
       "      <td>2.50</td>\n",
       "      <td>4.50</td>\n",
       "    </tr>\n",
       "    <tr>\n",
       "      <th>3</th>\n",
       "      <td>3.75</td>\n",
       "      <td>6.75</td>\n",
       "    </tr>\n",
       "    <tr>\n",
       "      <th>4</th>\n",
       "      <td>5.00</td>\n",
       "      <td>9.00</td>\n",
       "    </tr>\n",
       "  </tbody>\n",
       "</table>\n",
       "</div>"
      ],
      "text/plain": [
       "      b     d\n",
       "0  0.00  0.00\n",
       "1  1.25  2.25\n",
       "2  2.50  4.50\n",
       "3  3.75  6.75\n",
       "4  5.00  9.00"
      ]
     },
     "execution_count": 7,
     "metadata": {},
     "output_type": "execute_result"
    }
   ],
   "source": [
    "dat = pd.DataFrame({'a': range(5), 'b': np.linspace(0, 5, 5)})\n",
    "dat['c'] = dat['d'] = dat['a'] + dat['b']\n",
    "del dat['c']\n",
    "dat.drop(columns='a', inplace=True)\n",
    "dat"
   ]
  },
  {
   "cell_type": "markdown",
   "id": "2ea5074f",
   "metadata": {
    "slideshow": {
     "slide_type": "slide"
    }
   },
   "source": [
    "## Selecting rows\n",
    " - Select rows by position using `.iloc[0, :]` or by index using \n",
    "   `.loc[\"a\", :]`. \n",
    " - More on this topic after discussing the `Index` class in more detail. "
   ]
  },
  {
   "cell_type": "code",
   "execution_count": null,
   "id": "cd6c6b31",
   "metadata": {
    "slideshow": {
     "slide_type": "code"
    }
   },
   "outputs": [],
   "source": [
    "dat.iloc[0, :] = -1\n",
    "print(dat.index)\n",
    "dat.loc[0:5:2, :]  # takes a slice object b/c uses RangeIndex()"
   ]
  },
  {
   "cell_type": "markdown",
   "id": "f220be01",
   "metadata": {
    "slideshow": {
     "slide_type": "slide"
    }
   },
   "source": [
    "## Filtering\n",
    "- Observations satisifying some condition can be selected through\n",
    "  Boolean indexing or (better) using the `.query()` method. \n",
    "- The primary argument to `.query()` is a string containing a Boolean \n",
    "  expression involving column names. "
   ]
  },
  {
   "cell_type": "code",
   "execution_count": 9,
   "id": "6ef08cbc",
   "metadata": {
    "slideshow": {
     "slide_type": "code"
    }
   },
   "outputs": [
    {
     "data": {
      "text/plain": [
       "[      b     d\n",
       " 1  1.25  2.25\n",
       " 2  2.50  4.50\n",
       " 3  3.75  6.75\n",
       " 4  5.00  9.00,\n",
       "       b     d\n",
       " 1  1.25  2.25\n",
       " 2  2.50  4.50\n",
       " 3  3.75  6.75]"
      ]
     },
     "execution_count": 9,
     "metadata": {},
     "output_type": "execute_result"
    }
   ],
   "source": [
    "b = dat[dat['b'] > 0]\n",
    "q = dat.query('b > 0 and d < 8')\n",
    "[b, q]"
   ]
  },
  {
   "cell_type": "markdown",
   "id": "950d12a7",
   "metadata": {
    "slideshow": {
     "slide_type": "slide"
    }
   },
   "source": [
    "## Takeaways\n",
    "- Pandas `DataFrames` are used to represent tidy, rectangular data. \n",
    "- Think of `DataFrames` as a collection of `Series` of the same length and\n",
    "  sharing an index. \n",
    "- Pay attention to whehter you are: \n",
    "  + getting a `Series` or a (new) `DataFrame`\n",
    "  + a view (alias) or a copy.\n",
    "- Prefer methods when avialable. \n",
    "- I recommend keeping a Pandas [cheat sheet][cs] close at hand.\n",
    "- More on Pandas and DataFrame methods in the next few lectures. \n",
    "\n",
    "[cs]: https://pandas.pydata.org/Pandas_Cheat_Sheet.pdf"
   ]
  }
 ],
 "metadata": {
  "jupytext": {
   "cell_metadata_json": true,
   "notebook_metadata_filter": "rise",
   "text_representation": {
    "extension": ".md",
    "format_name": "markdown",
    "format_version": "1.3",
    "jupytext_version": "1.11.4"
   }
  },
  "kernelspec": {
   "display_name": "Python 3 (ipykernel)",
   "language": "python",
   "name": "python3"
  },
  "language_info": {
   "codemirror_mode": {
    "name": "ipython",
    "version": 3
   },
   "file_extension": ".py",
   "mimetype": "text/x-python",
   "name": "python",
   "nbconvert_exporter": "python",
   "pygments_lexer": "ipython3",
   "version": "3.9.6"
  },
  "rise": {
   "autolaunch": true,
   "enable_chalkboard": true,
   "header": "<a href=\"#/slide-0-0\"> <h3> Stats 507 - Pandas, Part 0 </a>",
   "progress": true,
   "scroll": true,
   "theme": "solarized",
   "transition": "convex"
  }
 },
 "nbformat": 4,
 "nbformat_minor": 5
}
