{
 "cells": [
  {
   "cell_type": "markdown",
   "metadata": {},
   "source": [
    "# STATS507 Assignment 1\n",
    "### **Kailan Xu**  \n",
    "### *September 14,2021*"
   ]
  },
  {
   "cell_type": "markdown",
   "metadata": {},
   "source": [
    "  "
   ]
  },
  {
   "cell_type": "markdown",
   "metadata": {},
   "source": [
    "## Question 0 - Markdown warmup [10 points]                     \n",
    "***"
   ]
  },
  {
   "cell_type": "markdown",
   "metadata": {
    "scrolled": true
   },
   "source": [
    "\n",
    "This is $question \\ o$ for [problem set 1][ps1] of [Stats 507][s507].\n",
    "\n",
    "```\n",
    " Question 0 is about Markdown.\n",
    "```\n",
    "\n",
    "The next question is about the **Fibonnaci sequence**, $Fn=Fn−2+Fn−1$. In part **a** we will define a Python function `fib_rec()`.\n",
    "\n",
    "Below is a …\n",
    "\n",
    "### Level 3 Header\n",
    "Next, we can make a bulleted list:\n",
    "\n",
    "- Item 1\n",
    "    - detail 1\n",
    "    - detail 2\n",
    "- Item 2\n",
    "\n",
    "Finally, we can make an enumerated list:\n",
    "- Item 1\n",
    "- Item 2\n",
    "\n",
    "[ps1]:https://jbhender.github.io/Stats507/F21/ps/ps1.html\n",
    "[s507]:https://jbhender.github.io/Stats507/F21/\n",
    "\n",
    "\n"
   ]
  },
  {
   "cell_type": "markdown",
   "metadata": {},
   "source": [
    "***"
   ]
  },
  {
   "cell_type": "code",
   "execution_count": 1,
   "metadata": {},
   "outputs": [],
   "source": [
    "# libraries: -----------------------------------------------------------------\n",
    "import pandas as pd\n",
    "import numpy as np\n",
    "import time \n",
    "from itables import show\n",
    "from scipy.stats import norm"
   ]
  },
  {
   "cell_type": "markdown",
   "metadata": {},
   "source": [
    "## Question 1 - - Fibonnaci Sequence [30]"
   ]
  },
  {
   "cell_type": "markdown",
   "metadata": {},
   "source": [
    "#### a. Write a $recursive$ function `fib_rec()` that takes a single input `n` and returns the value of $Fn$.\n",
    "\n"
   ]
  },
  {
   "cell_type": "code",
   "execution_count": 32,
   "metadata": {},
   "outputs": [],
   "source": [
    "# functions: -----------------------------------------------------------------\n",
    "def fib_rec(n):\n",
    "    \"\"\"\n",
    "    Compute the nth value of Fibonnaci Sequence.\n",
    "    \n",
    "    Parameter\n",
    "    ---------\n",
    "    n: int\n",
    "    \n",
    "    Returns\n",
    "    ---------\n",
    "    An integer for the nth value of Fib Seq\n",
    "    \n",
    "    \"\"\"\n",
    "    if n == 0 or n == 1:\n",
    "        return n\n",
    "    else:\n",
    "        return fib_rec(n-1) + fib_rec(n-2)\n",
    "    \n",
    "# test function: -------------------------------------------------------------\n",
    "def test_func(func):\n",
    "    for i in [7,11,13]:\n",
    "        print(\"F\"+str(i)+\"=\",func(i))"
   ]
  },
  {
   "cell_type": "code",
   "execution_count": 33,
   "metadata": {
    "scrolled": true
   },
   "outputs": [
    {
     "name": "stdout",
     "output_type": "stream",
     "text": [
      "F7= 13\n",
      "F11= 89\n",
      "F13= 233\n"
     ]
    }
   ],
   "source": [
    "# test result: ---------------------------------------------------------------\n",
    "test_func(fib_rec)"
   ]
  },
  {
   "cell_type": "markdown",
   "metadata": {},
   "source": [
    "***"
   ]
  },
  {
   "cell_type": "markdown",
   "metadata": {},
   "source": [
    "#### b.  Write a function `fib_for()` with the same signature that computes $Fn$  by summation using a `for` loop.\n",
    "\n"
   ]
  },
  {
   "cell_type": "code",
   "execution_count": 34,
   "metadata": {},
   "outputs": [
    {
     "name": "stdout",
     "output_type": "stream",
     "text": [
      "F7= 13\n",
      "F11= 89\n",
      "F13= 233\n"
     ]
    }
   ],
   "source": [
    "# functions: -----------------------------------------------------------------\n",
    "def fib_for(n):\n",
    "    if n == 0 or n == 1:\n",
    "        return n\n",
    "    else:\n",
    "        fa = 0\n",
    "        fb = 1\n",
    "        fn = 1\n",
    "        for i in range(2,n):\n",
    "            fa = fb\n",
    "            fb = fn\n",
    "            fn= fa + fb\n",
    "        return fn\n",
    "\n",
    "    \n",
    "    \n",
    "# test result: ---------------------------------------------------------------\n",
    "test_func(fib_for)"
   ]
  },
  {
   "cell_type": "markdown",
   "metadata": {},
   "source": [
    "***"
   ]
  },
  {
   "cell_type": "markdown",
   "metadata": {},
   "source": [
    "**c. Write a function `fib_whl()` with the same signature that computes $Fn$ by summation using a `while` loop.**"
   ]
  },
  {
   "cell_type": "code",
   "execution_count": 37,
   "metadata": {},
   "outputs": [
    {
     "name": "stdout",
     "output_type": "stream",
     "text": [
      "F7= 13\n",
      "F11= 89\n",
      "F13= 233\n"
     ]
    }
   ],
   "source": [
    "# functions: -----------------------------------------------------------------\n",
    "def fib_whl(n):\n",
    "    if n == 0 or n == 1:\n",
    "        return n\n",
    "    else:\n",
    "        fa = 0\n",
    "        fb = 1\n",
    "        fn = 1\n",
    "        i = 2\n",
    "        while i < n:\n",
    "            fa = fb\n",
    "            fb = fn\n",
    "            fn= fa + fb\n",
    "            i +=1\n",
    "        return fn\n",
    "\n",
    "    \n",
    "    \n",
    "# test result: --------------------------------------------------------------- \n",
    "test_func(fib_whl)"
   ]
  },
  {
   "cell_type": "markdown",
   "metadata": {},
   "source": [
    "***"
   ]
  },
  {
   "cell_type": "markdown",
   "metadata": {},
   "source": [
    "**d. Write a function `fib_rnd()` with the same signature that computes $Fn$ using the rounding method described on the Wikipedia page linked above.**"
   ]
  },
  {
   "cell_type": "code",
   "execution_count": 46,
   "metadata": {},
   "outputs": [
    {
     "name": "stdout",
     "output_type": "stream",
     "text": [
      "F7= 13.0\n",
      "F11= 89.0\n",
      "F13= 233.0\n"
     ]
    }
   ],
   "source": [
    "# functions: -----------------------------------------------------------------\n",
    "def fib_rnd(n):\n",
    "    psi = (1+np.sqrt(5))/2\n",
    "    return round(psi**n/np.sqrt(5))\n",
    "\n",
    "\n",
    "# test result: ---------------------------------------------------------------  \n",
    "test_func(fib_rnd)"
   ]
  },
  {
   "cell_type": "markdown",
   "metadata": {},
   "source": [
    "***"
   ]
  },
  {
   "cell_type": "markdown",
   "metadata": {},
   "source": [
    "**e. Write a function `fib_flr()` with the same signature that computes $Fn$ using the truncation method described on the Wikipedia page linked above.**"
   ]
  },
  {
   "cell_type": "code",
   "execution_count": 50,
   "metadata": {},
   "outputs": [
    {
     "name": "stdout",
     "output_type": "stream",
     "text": [
      "F7= 13.0\n",
      "F11= 89.0\n",
      "F13= 233.0\n"
     ]
    }
   ],
   "source": [
    "# functions: -----------------------------------------------------------------\n",
    "def fib_flr(n):\n",
    "    psi = (1+np.sqrt(5))/2\n",
    "    return np.floor(psi**n/np.sqrt(5)+0.5)\n",
    "\n",
    "\n",
    "# test result: ---------------------------------------------------------------  \n",
    "test_func(fib_flr)"
   ]
  },
  {
   "cell_type": "markdown",
   "metadata": {},
   "source": [
    "***"
   ]
  },
  {
   "cell_type": "markdown",
   "metadata": {},
   "source": [
    "**f. For a sequence of increasingly large values of `n` compare the median computation time of each of the functions above. Present your results in a nicely formatted table. (Point estimates are sufficient).**"
   ]
  },
  {
   "cell_type": "code",
   "execution_count": 72,
   "metadata": {},
   "outputs": [],
   "source": [
    "# functions list: ------------------------------------------------------------\n",
    "func_name = ['fib_rec', 'fib_for', 'fib_whl', 'fib_rnd', 'fib_flr']\n",
    "func_list = [fib_rec, fib_for, fib_whl, fib_rnd, fib_flr]\n",
    "# 79: ------------------------------------------------------------------------"
   ]
  },
  {
   "cell_type": "code",
   "execution_count": 103,
   "metadata": {
    "collapsed": true
   },
   "outputs": [
    {
     "name": "stdout",
     "output_type": "stream",
     "text": [
      "fib_rec;n= 30 ;result= 832040 ;time= 300.196044921875\n",
      "fib_for;n= 30 ;result= 832040 ;time= 0.0\n",
      "fib_whl;n= 30 ;result= 832040 ;time= 0.0\n",
      "fib_rnd;n= 30 ;result= 832040.0 ;time= 0.0\n",
      "fib_flr;n= 30 ;result= 832040.0 ;time= 0.0\n",
      "fib_rec;n= 30 ;result= 832040 ;time= 289.259521484375\n",
      "fib_for;n= 30 ;result= 832040 ;time= 0.0\n",
      "fib_whl;n= 30 ;result= 832040 ;time= 0.0\n",
      "fib_rnd;n= 30 ;result= 832040.0 ;time= 0.0\n",
      "fib_flr;n= 30 ;result= 832040.0 ;time= 0.0\n",
      "fib_rec;n= 30 ;result= 832040 ;time= 305.200927734375\n",
      "fib_for;n= 30 ;result= 832040 ;time= 0.0\n",
      "fib_whl;n= 30 ;result= 832040 ;time= 0.0\n",
      "fib_rnd;n= 30 ;result= 832040.0 ;time= 0.0\n",
      "fib_flr;n= 30 ;result= 832040.0 ;time= 0.0\n",
      "fib_rec;n= 30 ;result= 832040 ;time= 307.128173828125\n",
      "fib_for;n= 30 ;result= 832040 ;time= 0.0\n",
      "fib_whl;n= 30 ;result= 832040 ;time= 0.0\n",
      "fib_rnd;n= 30 ;result= 832040.0 ;time= 0.0\n",
      "fib_flr;n= 30 ;result= 832040.0 ;time= 0.0\n",
      "fib_rec;n= 30 ;result= 832040 ;time= 301.17626953125\n",
      "fib_for;n= 30 ;result= 832040 ;time= 0.0\n",
      "fib_whl;n= 30 ;result= 832040 ;time= 0.0\n",
      "fib_rnd;n= 30 ;result= 832040.0 ;time= 0.0\n",
      "fib_flr;n= 30 ;result= 832040.0 ;time= 0.0\n"
     ]
    }
   ],
   "source": [
    "# Compute running time of each function with n = 30: -------------------------\n",
    "count = 0\n",
    "while count<5:\n",
    "    for i in range(5):\n",
    "        n = 30\n",
    "        t1 = 1000*time.time()\n",
    "        result = func_list[i](n)\n",
    "        t2 =1000*time.time()\n",
    "        print(func_name[i]+\";n=\" ,n , \";result=\" ,result , \";time=\",(t2 - t1))\n",
    "    count += 1\n",
    "# 79: ------------------------------------------------------------------------"
   ]
  },
  {
   "cell_type": "code",
   "execution_count": 123,
   "metadata": {
    "scrolled": false
   },
   "outputs": [],
   "source": [
    "# data frame: ----------------------------------------------------------------\n",
    "dat = pd.DataFrame(\n",
    "    {\n",
    "     \"function\": func_name,\n",
    "     \"value of n\": np.repeat(30,5),\n",
    "     \"median run time (ms)\": [300.2,0.0,0.0,0.0,0.0]\n",
    "     }\n",
    "    )\n",
    "# 79: ------------------------------------------------------------------------"
   ]
  },
  {
   "cell_type": "markdown",
   "metadata": {},
   "source": [
    "*Comparison of computation time of functions above*"
   ]
  },
  {
   "cell_type": "markdown",
   "metadata": {},
   "source": [
    "|    | function   |   value of n |   median run time (ms) |\n",
    "|---:|:-----------|-------------:|-----------------------:|\n",
    "|  0 | `fib_rec()`    |           30 |                  300.2 |\n",
    "|  1 | `fib_for()`    |           30 |                    0   |\n",
    "|  2 | `fib_whl()`    |           30 |                    0   |\n",
    "|  3 | `fib_rnd()`    |           30 |                    0   |\n",
    "|  4 | `fib_flr()`    |           30 |                    0   |"
   ]
  },
  {
   "cell_type": "markdown",
   "metadata": {},
   "source": [
    "***"
   ]
  },
  {
   "cell_type": "markdown",
   "metadata": {},
   "source": [
    "## Question 2 - Pascal’s Triangle [20]"
   ]
  },
  {
   "cell_type": "markdown",
   "metadata": {},
   "source": [
    "a. Write a function to compute a specified row of Pascal’s triangle. An arbitrary row of Pascal’s triangle can be computed efficiently by starting with $\\tbinom{n}{0} = 1$  and then applying the following recurrence relation among binomial coefficients, $$\\tbinom{n}{k} = \\tbinom{n}{k-1} * \\frac{n+1-k}{k}$$"
   ]
  },
  {
   "cell_type": "code",
   "execution_count": 139,
   "metadata": {},
   "outputs": [
    {
     "name": "stdout",
     "output_type": "stream",
     "text": [
      "1 4 6 4 1 \n"
     ]
    }
   ],
   "source": [
    "# function: ------------------------------------------------------------------\n",
    "def row_PascT(n):\n",
    "    C = 1 \n",
    "    for i in range(1, n + 1):\n",
    "        print(C, end = \" \")\n",
    "        C = int(C * (n - i) / i)\n",
    "    print(\"\")\n",
    "\n",
    "    \n",
    "# display the 5th row of Pascal Triangle:-------------------------------------\n",
    "row_PascT(5)\n",
    "\n",
    "# 79: ------------------------------------------------------------------------"
   ]
  },
  {
   "cell_type": "markdown",
   "metadata": {},
   "source": [
    "***"
   ]
  },
  {
   "cell_type": "markdown",
   "metadata": {},
   "source": [
    "b. Write a function for printing the first $n$ rows of Pascal’s triangle using the conventional spacing with the numbers in each row staggered relative to adjacent rows. Use your function to display a minimum of 10 rows in your notebook."
   ]
  },
  {
   "cell_type": "code",
   "execution_count": 152,
   "metadata": {},
   "outputs": [
    {
     "name": "stdout",
     "output_type": "stream",
     "text": [
      "1 \n",
      "1 1 \n",
      "1 2 1 \n",
      "1 3 3 1 \n",
      "1 4 6 4 1 \n",
      "1 5 10 10 5 1 \n",
      "1 6 15 20 15 6 1 \n",
      "1 7 21 35 35 21 7 1 \n",
      "1 8 28 56 70 56 28 8 1 \n",
      "1 9 36 84 126 126 84 36 9 1 \n"
     ]
    }
   ],
   "source": [
    "# function: ------------------------------------------------------------------\n",
    "def printPascT(n):    \n",
    "    for line in range(1, n + 1):\n",
    "        C = 1  ### the 1st element of each row is 1\n",
    "        for i in range(1, line + 1):\n",
    "            print(C, end = \" \")\n",
    "            C = int(C * (line- i) / i) ### applying the recurrence relation\n",
    "        print(\"\")\n",
    "\n",
    "        \n",
    "        \n",
    "# print first 10 rows of Pascal Triangle: ------------------------------------\n",
    "\n",
    "printPascT(10)\n",
    "\n",
    "# 79: ------------------------------------------------------------------------"
   ]
  },
  {
   "cell_type": "markdown",
   "metadata": {},
   "source": [
    "***"
   ]
  },
  {
   "cell_type": "markdown",
   "metadata": {},
   "source": [
    "## Question 3 - Statistics 101 [40]"
   ]
  },
  {
   "cell_type": "markdown",
   "metadata": {},
   "source": [
    "a. The standard point and interval estimate for the populaiton mean based on Normal theory takes the form $\\bar{x}±z×se(x)$ where $\\bar{x}$ is the mean, $se(x)$ is the standard error, and $z$ is a Gaussian multiplier that depends on the desired confidence level. Write a function to return a point and interval estimate for the mean based on these statistics."
   ]
  },
  {
   "cell_type": "markdown",
   "metadata": {},
   "source": [
    "**缺一个判断1d array 的imformative exception**"
   ]
  },
  {
   "cell_type": "code",
   "execution_count": 16,
   "metadata": {},
   "outputs": [],
   "source": [
    "# function: ------------------------------------------------------------------\n",
    "def get_estimate(data,conf_lv=0.95,input_string=True):\n",
    "    \"\"\"\n",
    "    get point and interval estimate\n",
    "    \n",
    "    Parameter\n",
    "    ---------\n",
    "    data: 1d array or list\n",
    "    conf_lv: confidence level, an integer range(0,1)\n",
    "    \n",
    "    Returns\n",
    "    ---------\n",
    "    A string of estimate or a dict\n",
    "    \"\"\"\n",
    "    from scipy.stats import norm\n",
    "    \n",
    "    data = np.array(data)\n",
    "    if type(data) is np.ndarray:\n",
    "        theta_hat = np.mean(data)\n",
    "        se = np.std(data)\n",
    "\n",
    "        z = norm.ppf(0.5+conf_lv/2,loc=0,scale=1)\n",
    "        CI_left = theta_hat- z * se\n",
    "        CI_right = theta_hat+ z * se\n",
    "\n",
    "        string = str(theta_hat)+\" \"+\"[\"+str(conf_lv*100)+'% CI:'+'('+str(round(\n",
    "                    CI_left,4))+','+str(round(CI_right,4))+')]'\n",
    "        dic = {}\n",
    "        dic['est'] = theta_hat\n",
    "        dic['lwr'] = CI_left\n",
    "        dic['upr'] = CI_right\n",
    "        dic['level'] = conf_lv\n",
    "\n",
    "        if input_string == True:\n",
    "            return string\n",
    "        if input_string == None:\n",
    "            return dic\n",
    "        else:\n",
    "            return 'Parameter `input string` can only be True or None'\n",
    "    else:\n",
    "        return print('input data can only be 1d array or any object'+\n",
    "                     'coercable to such an array using np.array()')\n",
    "# 79: ------------------------------------------------------------------------"
   ]
  },
  {
   "cell_type": "code",
   "execution_count": 17,
   "metadata": {},
   "outputs": [
    {
     "name": "stdout",
     "output_type": "stream",
     "text": [
      "2.0 [95.0% CI:(0.3997,3.6003)]\n",
      "2.0 [98.0% CI:(0.1005,3.8995)]\n",
      "{'est': 2.0, 'lwr': 0.3996961078815633, 'upr': 3.6003038921184367, 'level': 0.95}\n",
      "Parameter `input string` can only be True or None\n"
     ]
    }
   ],
   "source": [
    "# Test: ----------------------------------------------------------------------\n",
    "a = [1,2,3]\n",
    "print(get_estimate(a,))\n",
    "print(get_estimate(a,0.98))\n",
    "print(get_estimate(a,0.95,input_string=None))\n",
    "print(get_estimate(a,0.95,input_string=False))\n",
    "\n",
    "# 79: ------------------------------------------------------------------------"
   ]
  },
  {
   "cell_type": "markdown",
   "metadata": {},
   "source": [
    "b. There are a number of methods for computing a confidence interval for a population proportion arising from a Binomial experiment consisting of $n$ independent and identically distributed (iid) Bernoulli trials. Let $x$ be the number of successes in thes trials. In this question you will write a function to return point and interval estimates based on several of these methods. Your function should have a `parameter` method that controls the method used. Include functionality for each of the following methods."
   ]
  },
  {
   "cell_type": "code",
   "execution_count": 8,
   "metadata": {},
   "outputs": [],
   "source": [
    "# function: ------------------------------------------------------------------\n",
    "def get_estimate_Bino(dat,conf_lv=0.95,method='Normal approximation'):\n",
    "    \n",
    "    \"\"\"\n",
    "    computing a point estimate confidence interval for a population proportion\n",
    "    arising from a Binomial experiment consisting of n iid Bernoulli trials.\n",
    "    \n",
    "    Parameter\n",
    "    ---------\n",
    "    dat: a 1d numpy array that only have 0 and 1 \n",
    "    conf_lv:confidence level\n",
    "    method: 4 methods of computing CI {Normal approximation, CP, Jeffery, AC}\n",
    "    \n",
    "    Returns\n",
    "    ---------\n",
    "    A dict of point estimate and confidence interval\n",
    "    \"\"\"\n",
    "    from scipy.stats import norm,beta\n",
    "    import numpy as np\n",
    "    \n",
    "    dat = np.array(dat)\n",
    "    if type(dat) is not np.ndarray:\n",
    "        return 'input data must be 1d numpy array.'\n",
    "    else:\n",
    "        x = sum(dat)\n",
    "        n = len(dat)\n",
    "        p_hat = x/n\n",
    "        dic = {}\n",
    "        dic['est'] = p_hat\n",
    "        dic['level'] = conf_lv\n",
    "\n",
    "        if method =='Normal approximation':\n",
    "            if min(x,n-x)>12:\n",
    "                z = norm.ppf(0.5+conf_lv/2,loc=0,scale=1)\n",
    "                dic['lwr'] = p_hat - z * np.sqrt(p_hat*(1-p_hat)/n)\n",
    "                dic['upr'] = p_hat + z * np.sqrt(p_hat*(1-p_hat)/n)\n",
    "                dic['method']='Normal approximation'\n",
    "            else: \n",
    "                return 'condition for this method is not satisfied!'\n",
    "\n",
    "        if method == 'CP':\n",
    "            alpha = 1-conf_lv\n",
    "            dic['lwr'] = beta.ppf(alpha/2, x, n-x+1)\n",
    "            dic['upr'] = beta.ppf(1-alpha/2, x+1, n-x)\n",
    "            dic['method']='Clopper-Pearson'\n",
    "\n",
    "        if method == 'Jeffery':\n",
    "            alpha = 1-conf_lv\n",
    "            dic['lwr'] = max(0,beta.ppf(alpha/2, x+0.5, n-x+0.5))\n",
    "            dic['upr'] = min(beta.ppf(1-alpha/2, x+0.5, n-x+0.5),1)\n",
    "            dic['method']='Jeffery'\n",
    "\n",
    "        if method == 'AC':\n",
    "            z = norm.ppf(0.5+conf_lv/2,loc=0,scale=1)\n",
    "            n_t = n + z**2\n",
    "            p_t = (x+z**2/2)/n_t \n",
    "            dic['lwr'] = p_t - z * np.sqrt(p_t*(1-p_t)/n)\n",
    "            dic['upr'] = p_t + z * np.sqrt(p_t*(1-p_t)/n)\n",
    "            dic['method']='Agresti-Coull'\n",
    "\n",
    "    return dic\n",
    "\n",
    "# 79: ------------------------------------------------------------------------"
   ]
  },
  {
   "cell_type": "markdown",
   "metadata": {},
   "source": [
    "c. Create a 1d Numpy array with $42$ ones and $48$ zeros. Construct a nicely formatted table comparing $90$, $95$, and $99%$ confidence intervals using each of the methods above (including part a) on this data. Choose the number of decimals to display carefully to emphasize differences. For each confidence level, which method produces the interval with the smallest width?"
   ]
  },
  {
   "cell_type": "code",
   "execution_count": 10,
   "metadata": {},
   "outputs": [],
   "source": [
    "# Create a 1d Numpy array with 42 ones and 48 zeros---------------------------\n",
    "\n",
    "a = np.repeat(0,42)\n",
    "b = np.repeat(1,48)\n",
    "dat =np.append(a,b)\n",
    "\n",
    "# 79: ------------------------------------------------------------------------"
   ]
  },
  {
   "cell_type": "code",
   "execution_count": 25,
   "metadata": {},
   "outputs": [],
   "source": [
    "# ALL 5 Methods result: ----------------------------------------------------------\n",
    "\n",
    "# method in part a \n",
    "res_a_95 = get_estimate(dat,input_string=None)\n",
    "res_a_90 = get_estimate(dat,conf_lv=0.9,input_string=None)\n",
    "res_a_99 = get_estimate(dat,conf_lv = 0.99,input_string=None)\n",
    "\n",
    "# 4 methods in part b\n",
    "res_NA_90 = get_estimate_Bino(dat,conf_lv=0.9,method='Normal approximation')\n",
    "res_NA_95 = get_estimate_Bino(dat,conf_lv=0.95,method='Normal approximation')\n",
    "res_NA_99 = get_estimate_Bino(dat,conf_lv=0.99,method='Normal approximation')\n",
    "\n",
    "res_CP_90 = get_estimate_Bino(dat,conf_lv=0.9,method='CP')\n",
    "res_CP_95 = get_estimate_Bino(dat,conf_lv=0.95,method='CP')\n",
    "res_CP_99 = get_estimate_Bino(dat,conf_lv=0.99,method='CP')\n",
    "\n",
    "res_Jeffery_90 = get_estimate_Bino(dat,conf_lv=0.9,method='Jeffery')\n",
    "res_Jeffery_95 = get_estimate_Bino(dat,conf_lv=0.95,method='Jeffery')\n",
    "res_Jeffery_99 = get_estimate_Bino(dat,conf_lv=0.99,method='Jeffery')\n",
    "\n",
    "res_AC_90 = get_estimate_Bino(dat,conf_lv=0.9,method='AC')\n",
    "res_AC_95 = get_estimate_Bino(dat,conf_lv=0.95,method='AC')\n",
    "res_AC_99 = get_estimate_Bino(dat,conf_lv=0.99,method='AC')\n",
    "# 79: ------------------------------------------------------------------------"
   ]
  },
  {
   "cell_type": "code",
   "execution_count": 84,
   "metadata": {
    "scrolled": true
   },
   "outputs": [],
   "source": [
    "# Write result into a Table: ------------------------------------------------\n",
    "methods_lst = ['Method in part a','Normal Approximation','Clopper-Pearson',\n",
    "               'Jeffery','Agresti-Coull']*3\n",
    "\n",
    "CI_lst = ['90%']*5+['95%']*5+['99%']*5\n",
    "\n",
    "lwr_lst = [res_a_90['lwr'],res_NA_90['lwr'],res_CP_90['lwr'],res_Jeffery_90['lwr'],res_AC_90['lwr'],\n",
    "           res_a_95['lwr'],res_NA_95['lwr'],res_CP_95['lwr'],res_Jeffery_95['lwr'],res_AC_95['lwr'],\n",
    "           res_a_99['lwr'],res_NA_99['lwr'],res_CP_99['lwr'],res_Jeffery_99['lwr'],res_AC_99['lwr']]\n",
    "\n",
    "\n",
    "upr_lst = [res_a_90['upr'],res_NA_90['upr'],res_CP_90['upr'],res_Jeffery_90['upr'],res_AC_90['upr'],\n",
    "           res_a_95['upr'],res_NA_95['upr'],res_CP_95['upr'],res_Jeffery_95['upr'],res_AC_95['upr'],\n",
    "           res_a_99['upr'],res_NA_99['upr'],res_CP_99['upr'],res_Jeffery_99['upr'],res_AC_99['upr']]\n",
    "\n",
    "k =3 \n",
    "res_df = pd.DataFrame(\n",
    "    {\n",
    "     \"Methods\": methods_lst,\n",
    "     \"confidence level\": CI_lst,\n",
    "     \"lower bound\": [round(i,k) for i in lwr_lst],\n",
    "     \"upper bound\": [round(i,k) for i in upr_lst]\n",
    "     }\n",
    "    )\n",
    "# 79: ------------------------------------------------------------------------"
   ]
  },
  {
   "cell_type": "code",
   "execution_count": 85,
   "metadata": {},
   "outputs": [
    {
     "data": {
      "text/html": [
       "<div>\n",
       "<style scoped>\n",
       "    .dataframe tbody tr th:only-of-type {\n",
       "        vertical-align: middle;\n",
       "    }\n",
       "\n",
       "    .dataframe tbody tr th {\n",
       "        vertical-align: top;\n",
       "    }\n",
       "\n",
       "    .dataframe thead th {\n",
       "        text-align: right;\n",
       "    }\n",
       "</style>\n",
       "<table border=\"1\" class=\"dataframe\">\n",
       "  <thead>\n",
       "    <tr style=\"text-align: right;\">\n",
       "      <th></th>\n",
       "      <th>Methods</th>\n",
       "      <th>confidence level</th>\n",
       "      <th>lower bound</th>\n",
       "      <th>upper bound</th>\n",
       "      <th>interval width</th>\n",
       "    </tr>\n",
       "  </thead>\n",
       "  <tbody>\n",
       "    <tr>\n",
       "      <th>0</th>\n",
       "      <td>Method in part a</td>\n",
       "      <td>90%</td>\n",
       "      <td>-0.287</td>\n",
       "      <td>1.354</td>\n",
       "      <td>1.641</td>\n",
       "    </tr>\n",
       "    <tr>\n",
       "      <th>1</th>\n",
       "      <td>Normal Approximation</td>\n",
       "      <td>90%</td>\n",
       "      <td>0.447</td>\n",
       "      <td>0.620</td>\n",
       "      <td>0.173</td>\n",
       "    </tr>\n",
       "    <tr>\n",
       "      <th>2</th>\n",
       "      <td>Clopper-Pearson</td>\n",
       "      <td>90%</td>\n",
       "      <td>0.441</td>\n",
       "      <td>0.624</td>\n",
       "      <td>0.183</td>\n",
       "    </tr>\n",
       "    <tr>\n",
       "      <th>3</th>\n",
       "      <td>Jeffery</td>\n",
       "      <td>90%</td>\n",
       "      <td>0.447</td>\n",
       "      <td>0.618</td>\n",
       "      <td>0.171</td>\n",
       "    </tr>\n",
       "    <tr>\n",
       "      <th>4</th>\n",
       "      <td>Agresti-Coull</td>\n",
       "      <td>90%</td>\n",
       "      <td>0.446</td>\n",
       "      <td>0.619</td>\n",
       "      <td>0.173</td>\n",
       "    </tr>\n",
       "    <tr>\n",
       "      <th>5</th>\n",
       "      <td>Method in part a</td>\n",
       "      <td>95%</td>\n",
       "      <td>-0.444</td>\n",
       "      <td>1.511</td>\n",
       "      <td>1.955</td>\n",
       "    </tr>\n",
       "    <tr>\n",
       "      <th>6</th>\n",
       "      <td>Normal Approximation</td>\n",
       "      <td>95%</td>\n",
       "      <td>0.430</td>\n",
       "      <td>0.636</td>\n",
       "      <td>0.206</td>\n",
       "    </tr>\n",
       "    <tr>\n",
       "      <th>7</th>\n",
       "      <td>Clopper-Pearson</td>\n",
       "      <td>95%</td>\n",
       "      <td>0.425</td>\n",
       "      <td>0.639</td>\n",
       "      <td>0.214</td>\n",
       "    </tr>\n",
       "    <tr>\n",
       "      <th>8</th>\n",
       "      <td>Jeffery</td>\n",
       "      <td>95%</td>\n",
       "      <td>0.431</td>\n",
       "      <td>0.634</td>\n",
       "      <td>0.203</td>\n",
       "    </tr>\n",
       "    <tr>\n",
       "      <th>9</th>\n",
       "      <td>Agresti-Coull</td>\n",
       "      <td>95%</td>\n",
       "      <td>0.429</td>\n",
       "      <td>0.635</td>\n",
       "      <td>0.206</td>\n",
       "    </tr>\n",
       "    <tr>\n",
       "      <th>10</th>\n",
       "      <td>Method in part a</td>\n",
       "      <td>99%</td>\n",
       "      <td>-0.752</td>\n",
       "      <td>1.818</td>\n",
       "      <td>2.570</td>\n",
       "    </tr>\n",
       "    <tr>\n",
       "      <th>11</th>\n",
       "      <td>Normal Approximation</td>\n",
       "      <td>99%</td>\n",
       "      <td>0.398</td>\n",
       "      <td>0.669</td>\n",
       "      <td>0.271</td>\n",
       "    </tr>\n",
       "    <tr>\n",
       "      <th>12</th>\n",
       "      <td>Clopper-Pearson</td>\n",
       "      <td>99%</td>\n",
       "      <td>0.394</td>\n",
       "      <td>0.669</td>\n",
       "      <td>0.275</td>\n",
       "    </tr>\n",
       "    <tr>\n",
       "      <th>13</th>\n",
       "      <td>Jeffery</td>\n",
       "      <td>99%</td>\n",
       "      <td>0.399</td>\n",
       "      <td>0.664</td>\n",
       "      <td>0.265</td>\n",
       "    </tr>\n",
       "    <tr>\n",
       "      <th>14</th>\n",
       "      <td>Agresti-Coull</td>\n",
       "      <td>99%</td>\n",
       "      <td>0.396</td>\n",
       "      <td>0.667</td>\n",
       "      <td>0.271</td>\n",
       "    </tr>\n",
       "  </tbody>\n",
       "</table>\n",
       "</div>"
      ],
      "text/plain": [
       "                 Methods confidence level  lower bound  upper bound  \\\n",
       "0       Method in part a              90%       -0.287        1.354   \n",
       "1   Normal Approximation              90%        0.447        0.620   \n",
       "2        Clopper-Pearson              90%        0.441        0.624   \n",
       "3                Jeffery              90%        0.447        0.618   \n",
       "4          Agresti-Coull              90%        0.446        0.619   \n",
       "5       Method in part a              95%       -0.444        1.511   \n",
       "6   Normal Approximation              95%        0.430        0.636   \n",
       "7        Clopper-Pearson              95%        0.425        0.639   \n",
       "8                Jeffery              95%        0.431        0.634   \n",
       "9          Agresti-Coull              95%        0.429        0.635   \n",
       "10      Method in part a              99%       -0.752        1.818   \n",
       "11  Normal Approximation              99%        0.398        0.669   \n",
       "12       Clopper-Pearson              99%        0.394        0.669   \n",
       "13               Jeffery              99%        0.399        0.664   \n",
       "14         Agresti-Coull              99%        0.396        0.667   \n",
       "\n",
       "    interval width  \n",
       "0            1.641  \n",
       "1            0.173  \n",
       "2            0.183  \n",
       "3            0.171  \n",
       "4            0.173  \n",
       "5            1.955  \n",
       "6            0.206  \n",
       "7            0.214  \n",
       "8            0.203  \n",
       "9            0.206  \n",
       "10           2.570  \n",
       "11           0.271  \n",
       "12           0.275  \n",
       "13           0.265  \n",
       "14           0.271  "
      ]
     },
     "execution_count": 85,
     "metadata": {},
     "output_type": "execute_result"
    }
   ],
   "source": [
    "res_df['interval width'] = res_df['upper bound'] - res_df['lower bound']\n",
    "res_df"
   ]
  },
  {
   "cell_type": "markdown",
   "metadata": {},
   "source": [
    "**For all 3 confidence level, Jeffery's intervals has the smallest width.**"
   ]
  },
  {
   "cell_type": "code",
   "execution_count": null,
   "metadata": {},
   "outputs": [],
   "source": []
  }
 ],
 "metadata": {
  "jupytext": {
   "encoding": "# -*- coding: utf-8 -*-",
   "formats": "ipynb,py:percent"
  },
  "kernelspec": {
   "display_name": "Python 3 (ipykernel)",
   "language": "python",
   "name": "python3"
  },
  "language_info": {
   "codemirror_mode": {
    "name": "ipython",
    "version": 3
   },
   "file_extension": ".py",
   "mimetype": "text/x-python",
   "name": "python",
   "nbconvert_exporter": "python",
   "pygments_lexer": "ipython3",
   "version": "3.9.6"
  }
 },
 "nbformat": 4,
 "nbformat_minor": 2
}
