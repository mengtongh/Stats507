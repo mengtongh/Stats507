{
 "cells": [
  {
   "cell_type": "markdown",
   "id": "123cb0cf",
   "metadata": {
    "slideshow": {
     "slide_type": "slide"
    }
   },
   "source": [
    "# NumPy Funadmentals\n",
    "*Stats 507, Fall 2021*\n",
    "\n",
    "James Henderson, PhD  \n",
    "September 14, 2021"
   ]
  },
  {
   "cell_type": "markdown",
   "id": "a8c792c5",
   "metadata": {
    "slideshow": {
     "slide_type": "slide"
    }
   },
   "source": [
    "## Overview\n",
    " - <a href='#/slide-2-0'> About NumPy </a>\n",
    " - <a href='#/slide-3-0'> `ndarray`'s and `dtype`'s </a>\n",
    " - <a href='#/slide-7-0'> Vectorization </a>\n",
    " - <a href='#/slide-8-0'> Indexing/Slicing </a>\n",
    " - <a href='#/slide-10-0'> Broadcasting </a>\n",
    " - <a href='#/slide-11-0'> Random number generation </a>\n",
    " - <a href='#/slide-14-0'> Takeways </a>"
   ]
  },
  {
   "cell_type": "markdown",
   "id": "872ca0f3",
   "metadata": {
    "slideshow": {
     "slide_type": "slide"
    }
   },
   "source": [
    "## About\n",
    "- NumPy is short for \"Numerical Python\"\n",
    "- Most scientific modules use NumPy arrays for data exchange.\n",
    "- NumPy provides *vectorized* mathematical functions ...\n",
    "- ... and a C API useful for connecting Python to C, C++, and Fortran."
   ]
  },
  {
   "cell_type": "markdown",
   "id": "2fdcc4e9",
   "metadata": {
    "slideshow": {
     "slide_type": "subslide"
    }
   },
   "source": [
    "## Canonical Import\n",
    " - `import numpy as np`\n",
    " - Numpy version 1.21"
   ]
  },
  {
   "cell_type": "code",
   "execution_count": null,
   "id": "2297c6eb",
   "metadata": {
    "slideshow": {
     "slide_type": "code"
    }
   },
   "outputs": [],
   "source": [
    "import numpy as np\n",
    "print(np.__version__)\n",
    "x = range(10)\n",
    "xbar = np.mean(x) # implicit conversion to ndarray \n",
    "xbar"
   ]
  },
  {
   "cell_type": "markdown",
   "id": "a2a1e193",
   "metadata": {
    "slideshow": {
     "slide_type": "subslide"
    }
   },
   "source": [
    "## NumPy's helpful scalars\n",
    "- Missing values / not a number `np.nan`\n",
    "- Infinity `np.Inf` or `-np.Inf`\n",
    "- `np.pi`"
   ]
  },
  {
   "cell_type": "markdown",
   "id": "e4b40f6e",
   "metadata": {
    "slideshow": {
     "slide_type": "slide"
    }
   },
   "source": [
    "## Numpy's ndarray object\n",
    "- The `ndarray` object is a flexible *N*-*d*imensional *array*.\n",
    "- `ndarray`'s are *atomic* or *homogenous*, containing data of a single type.\n",
    "- In addition to its primary data, an `ndarray` has attributes / meta-data:\n",
    "  + `ndim` - the dimensionality,\n",
    "  + `shape` - a tuple giving the size of each dimension,\n",
    "  + `dtype` - the data type of the array's values. "
   ]
  },
  {
   "cell_type": "code",
   "execution_count": null,
   "id": "4bb1637a",
   "metadata": {
    "slideshow": {
     "slide_type": "code"
    }
   },
   "outputs": [],
   "source": [
    "x = [0, 1, 2]; y = [3, 4, 5]\n",
    "x_a = np.array(x)\n",
    "y_a = np.array([x, y])\n",
    "[(x_a.ndim, y_a.ndim), x_a.shape, y_a.shape, y_a]"
   ]
  },
  {
   "cell_type": "markdown",
   "id": "d956deee",
   "metadata": {
    "slideshow": {
     "slide_type": "slide"
    }
   },
   "source": [
    "## Constructors for class ndarray\n",
    "- `np.array()` converts sequence objects to arrays.\n",
    "- `np.asarray()` is similar, but creates an alias when passed an `ndarray`.\n",
    "- There are others: \n",
    "  + `np.ones()`, `np.zeros()`, `np.empty()`, `*_like()`,\n",
    "  + `np.arange()`, `np.identity()`."
   ]
  },
  {
   "cell_type": "code",
   "execution_count": null,
   "id": "2afaf5b9",
   "metadata": {
    "slideshow": {
     "slide_type": "code"
    }
   },
   "outputs": [],
   "source": [
    "z_x = np.asarray(x)    # x is a list\n",
    "z_y = np.asarray(y_a)  # y_a is an ndarray\n",
    "print((z_x is x, z_y is y_a))\n",
    "z_y.shape = (3, 2)\n",
    "y_a"
   ]
  },
  {
   "cell_type": "markdown",
   "id": "07da3f23",
   "metadata": {
    "slideshow": {
     "slide_type": "subslide"
    }
   },
   "source": [
    "## More Constructors\n",
    "- `np.arange()` - like built-in `range()` but returns an array; `[start, stop)`.\n",
    "- `np.linspace()` - `num` evenly spaced values in `[start, stop]`. \n",
    "- Many more, skim and learn as needed. \n"
   ]
  },
  {
   "cell_type": "code",
   "execution_count": null,
   "id": "8eb8f85e",
   "metadata": {
    "slideshow": {
     "slide_type": "code"
    }
   },
   "outputs": [],
   "source": [
    "print(np.linspace(0, 2 * np.pi, 5) / np.pi)\n",
    "np.linspace([0, 0], [3, 6], 3)"
   ]
  },
  {
   "cell_type": "markdown",
   "id": "846c4259",
   "metadata": {
    "slideshow": {
     "slide_type": "slide"
    }
   },
   "source": [
    "## NumPy data types\n",
    "- The `dtype` attribute tells NumPy what type to interpret the primary data\n",
    "  (values) of the array as.\n",
    "- Primary data is contiguous in memory, so must be *homogeneous* with a single\n",
    "  `dtype`.\n",
    "- Common `dtype`'s are:\n",
    "  + `int8`, `int16`, `int32` and `int64`, `uint8`-`uint64`,\n",
    "  + `float16`-`float128`, `complex64`-`complex256`,\n",
    "  + `bool`, `object`, `string_`, `unicode_`. "
   ]
  },
  {
   "cell_type": "code",
   "execution_count": null,
   "id": "9cf844a6",
   "metadata": {
    "slideshow": {
     "slide_type": "code"
    }
   },
   "outputs": [],
   "source": [
    "(z_x.dtype, z_y.dtype)"
   ]
  },
  {
   "cell_type": "markdown",
   "id": "07db761d",
   "metadata": {
    "slideshow": {
     "slide_type": "slide"
    }
   },
   "source": [
    "## Casting NumPy data types\n",
    "- Convert an `ndarray` to another type using the `.astype()` method.\n",
    "- This is known as *casting* between types.\n",
    "- Binary operators (among others) operating on arrays of different but\n",
    "  *compatible* types will implictly cast to the more complex type. "
   ]
  },
  {
   "cell_type": "code",
   "execution_count": null,
   "id": "6337fdcb",
   "metadata": {
    "slideshow": {
     "slide_type": "code"
    }
   },
   "outputs": [],
   "source": [
    "print((z_x.dtype, z_y.dtype))\n",
    "z_f = z_x.astype(np.float64)\n",
    "[(z_y[:, 1] + z_f).dtype, (z_f + z_y[:, 1]).dtype]"
   ]
  },
  {
   "cell_type": "markdown",
   "id": "1aae78e7",
   "metadata": {
    "slideshow": {
     "slide_type": "subslide"
    }
   },
   "source": [
    "## Casting NumPy data types\n",
    "- Casting using `.astype()` always creates a copy.\n",
    "- Types have shorthand strings used with `np.dtype()`. "
   ]
  },
  {
   "cell_type": "code",
   "execution_count": null,
   "id": "7eac651d",
   "metadata": {
    "slideshow": {
     "slide_type": "code"
    }
   },
   "outputs": [],
   "source": [
    "z_f2 = z_f.astype('d') # 'd' is shorthand for np.float64\n",
    "print(z_f2 is z_f)\n",
    "if z_f.dtype == np.dtype('float64'):\n",
    "    pass\n",
    "else:\n",
    "    z_f = z_f.astype(np.float64) \n",
    "if z_f.dtype != np.float64:\n",
    "    z_f = z_f.astype(np.float64)"
   ]
  },
  {
   "cell_type": "markdown",
   "id": "0b173574",
   "metadata": {
    "slideshow": {
     "slide_type": "slide"
    }
   },
   "source": [
    "## Vectorization\n",
    "- A function or operator written to operate on an entire sequence (or vector)\n",
    "  at once is said to be *vectorized*.  \n",
    "- Generally this refers to creating functions that encapsulate associated loops.\n",
    "- In interpreted languages, these loops are usually written in a lower-level,\n",
    "  compiled, language (often C, C++, or Fortran) for efficiency.  \n",
    "- This process and concept is referred to as *vectorization*. "
   ]
  },
  {
   "cell_type": "markdown",
   "id": "e9dcb012",
   "metadata": {
    "slideshow": {
     "slide_type": "subslide"
    }
   },
   "source": [
    "## Vectorization in NumPy\n",
    "- *Vectorization* is integral to the appeal, popularity, and efficiency of\n",
    "   NumPy. \n",
    "- For PS1, you've probably already used vectorized `np.mean()`, `np.std()`.\n",
    "- Binary operators are vectorized for `ndarray` objects. "
   ]
  },
  {
   "cell_type": "code",
   "execution_count": null,
   "id": "cd7aae8c",
   "metadata": {
    "slideshow": {
     "slide_type": "code"
    }
   },
   "outputs": [],
   "source": [
    "x = np.arange(9).reshape(3, 3)\n",
    "y = np.array([-1, 0, 1])\n",
    "x[:, 0] * y, x[1, :] > y, x * y"
   ]
  },
  {
   "cell_type": "markdown",
   "id": "4cb2a0e0",
   "metadata": {
    "slideshow": {
     "slide_type": "slide"
    }
   },
   "source": [
    "## Indexing / Slicing\n",
    "- In some respects, slicing an `ndarray` is similar to slicing a `list`.\n",
    "- Higher dimensional indices can be omitted.\n",
    "- A slice of an `ndarray` is a *view* of the original array referencing\n",
    "  the original data.   "
   ]
  },
  {
   "cell_type": "code",
   "execution_count": null,
   "id": "d061a2cd",
   "metadata": {
    "lines_to_next_cell": 0,
    "slideshow": {
     "slide_type": "code"
    }
   },
   "outputs": [],
   "source": [
    "z = np.ones((4, 3))\n",
    "z1 = z[:, 1].copy()\n",
    "z2 = z[:, 2]\n",
    "z1[:] = 0 \n",
    "z2[:] = 7 # 7 is broadcast to the entire slice\n",
    "z"
   ]
  },
  {
   "cell_type": "markdown",
   "id": "730ab438",
   "metadata": {
    "slideshow": {
     "slide_type": "slide"
    }
   },
   "source": [
    "## Boolean indexing\n",
    "+ An `ndarray` can be indexed using the `bool` type, often created from\n",
    "  the array itself.\n",
    "+ Note that `and`  and `or` are not *vectorized*, use `np.logical_and()` or\n",
    "  `np.logical_or()` instead."
   ]
  },
  {
   "cell_type": "code",
   "execution_count": null,
   "id": "2b2c6d4e",
   "metadata": {
    "slideshow": {
     "slide_type": "code"
    }
   },
   "outputs": [],
   "source": [
    "print(z > 1)\n",
    "z[z > 1]\n",
    "col_sums = np.sum(z, axis=0)\n",
    "col_sums = np.sum(z, axis=0)\n",
    "z[:, np.logical_and(col_sums > 4, col_sums < 30)]"
   ]
  },
  {
   "cell_type": "markdown",
   "id": "cc493056",
   "metadata": {
    "slideshow": {
     "slide_type": "slide"
    }
   },
   "source": [
    "## Broadcasting in NumPy\n",
    "- *Broadcasting* refers to rules for applying element-wise functions to\n",
    "  arrays with disimilar dimensions.\n",
    "- Broadcasting makes array operations more efficient by saving on memory\n",
    "  allocation and indexing. \n",
    "- NumPy uses a fairly strict form of broadcasting that allows scalar\n",
    "  by array operations and mismatches in the number of dimensions.   \n"
   ]
  },
  {
   "cell_type": "markdown",
   "id": "770f232b",
   "metadata": {
    "slideshow": {
     "slide_type": "subslide"
    }
   },
   "source": [
    "## Broadcasting in NumPy\n",
    "- Read the rules [here][nbr].\n",
    "- After pre-pending with 1's to make `.ndims` agree, dimensions must match\n",
    "  or be 1. \n",
    "    - \n",
    "   \n",
    "[nbr]: numpy.org/doc/stable/reference/ufuncs.html#broadcasting"
   ]
  },
  {
   "cell_type": "code",
   "execution_count": null,
   "id": "68fc8b8b",
   "metadata": {
    "slideshow": {
     "slide_type": "code"
    }
   },
   "outputs": [],
   "source": [
    "np.array([-1, 2]) * np.ones((2, 2, 2))"
   ]
  },
  {
   "cell_type": "markdown",
   "id": "890ff3a5",
   "metadata": {
    "slideshow": {
     "slide_type": "subslide"
    }
   },
   "source": [
    "## Exercise\n",
    "- What are the shape and sum of `z` below? "
   ]
  },
  {
   "cell_type": "code",
   "execution_count": null,
   "id": "f84c6edb",
   "metadata": {
    "slideshow": {
     "slide_type": "code"
    }
   },
   "outputs": [],
   "source": [
    "z = np.ones((2, 3, 2))\n",
    "x = np.array([i % 3 - 1 for i in range(6)])\n",
    "x = x.reshape(2, 3)\n",
    "\n",
    "try:\n",
    "    z = x * z\n",
    "except:\n",
    "    x = x.reshape(3, 2)\n",
    "    try: \n",
    "        z = x * z\n",
    "    except:\n",
    "        pass\n",
    "    \n",
    "x = x.reshape(1, 1, 3, 2)\n",
    "try:\n",
    "    z = x * z\n",
    "except:\n",
    "    z[:] = 0\n",
    "    \n",
    "[z.shape, np.sum(z), x.shape]"
   ]
  },
  {
   "cell_type": "markdown",
   "id": "b112ef70",
   "metadata": {
    "slideshow": {
     "slide_type": "slide"
    }
   },
   "source": [
    "## Random Numbers\n",
    " - NumPy's `random` API provides a random number generator and routines to \n",
    "   sample from a large number of [distributions][rg]. \n",
    " - `np.random.choice()` can be used to sample a sequence object. \n",
    " [rg]: https://numpy.org/doc/stable/reference/random/generator.html#distributions"
   ]
  },
  {
   "cell_type": "code",
   "execution_count": null,
   "id": "fba83692",
   "metadata": {
    "slideshow": {
     "slide_type": "code"
    }
   },
   "outputs": [],
   "source": [
    "print(np.random.uniform(0, 1, 3))\n",
    "print(np.random.normal(63.5, 5.55, 2))\n",
    "np.random.choice(range(3), 4)"
   ]
  },
  {
   "cell_type": "markdown",
   "id": "fe391377",
   "metadata": {
    "slideshow": {
     "slide_type": "slide"
    }
   },
   "source": [
    "## Reproducible Results\n",
    " - To make results that rely on pseudo-random number generation \n",
    "   exactly reproducible, set a seed for the random number generator.\n",
    " - The way this is done was recently updated in NumPy v1.21.\n",
    " - Create a [Generator][gen] instance using `np.random.default_rng()`.\n",
    "  \n",
    " [gen]: https://numpy.org/doc/stable/reference/random/generator.html"
   ]
  },
  {
   "cell_type": "code",
   "execution_count": null,
   "id": "f69c4490",
   "metadata": {
    "slideshow": {
     "slide_type": "code"
    }
   },
   "outputs": [],
   "source": [
    "rng = np.random.default_rng(seed=42)\n",
    "rng.uniform()"
   ]
  },
  {
   "cell_type": "markdown",
   "id": "61ac6d83",
   "metadata": {
    "slideshow": {
     "slide_type": "slide"
    }
   },
   "source": [
    "## Shuffle vs Permutation\n",
    "- The `.shuffle()` method permutes an array in-place.\n",
    "- The `.permutation()` method creates a copy.\n",
    "- Both shuffle data, ignoring shape.\n",
    "- The `.permuted()` method shuffles along an axis, use `out` to reassign\n",
    "  in-place."
   ]
  },
  {
   "cell_type": "code",
   "execution_count": null,
   "id": "a52cafb5",
   "metadata": {
    "slideshow": {
     "slide_type": "code"
    }
   },
   "outputs": [],
   "source": [
    "rng = np.random.default_rng(91421)\n",
    "a = np.arange(4)\n",
    "rng.shuffle(a)\n",
    "b = rng.permutation(a)\n",
    "[a, b, b is a]\n",
    "b.shape = (2, 2)\n",
    "c = b\n",
    "_ = rng.permuted(b, axis=0, out=b)\n",
    "[c is b, c, b]"
   ]
  },
  {
   "cell_type": "markdown",
   "id": "0af40b34",
   "metadata": {
    "slideshow": {
     "slide_type": "slide"
    }
   },
   "source": [
    "## Takeaways\n",
    "- NumPy is the backbone of scientific Python. \n",
    "- NumPy offers vectorized and optimized implementations of many mathematical\n",
    "  functions, a flexible array class with expressive slicing, helfpul scalars,\n",
    "  and much more. \n",
    "- NumPy uses a strict form of broadcasting.  \n",
    "- NumPy's random API can be used to generate pseudo-random numbers from \n",
    "  almost any distribution. \n",
    "- NumPy is a big topic, learn a little at a time. "
   ]
  }
 ],
 "metadata": {
  "jupytext": {
   "cell_metadata_json": true,
   "notebook_metadata_filter": "rise",
   "text_representation": {
    "extension": ".md",
    "format_name": "markdown",
    "format_version": "1.3",
    "jupytext_version": "1.11.4"
   }
  },
  "kernelspec": {
   "display_name": "Python 3 (ipykernel)",
   "language": "python",
   "name": "python3"
  },
  "language_info": {
   "codemirror_mode": {
    "name": "ipython",
    "version": 3
   },
   "file_extension": ".py",
   "mimetype": "text/x-python",
   "name": "python",
   "nbconvert_exporter": "python",
   "pygments_lexer": "ipython3",
   "version": "3.9.6"
  },
  "rise": {
   "autolaunch": true,
   "enable_chalkboard": true,
   "header": "<a href='#/slide-0-0'> <h3> Stats 507 - NumPy Fundamentals </a>",
   "progress": true,
   "scroll": true,
   "theme": "solarized",
   "transition": "convex"
  }
 },
 "nbformat": 4,
 "nbformat_minor": 5
}
