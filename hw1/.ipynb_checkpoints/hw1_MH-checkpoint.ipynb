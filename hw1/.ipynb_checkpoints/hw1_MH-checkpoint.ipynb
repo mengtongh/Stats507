{
 "cells": [
  {
   "cell_type": "code",
   "execution_count": 6,
   "id": "92e9c481",
   "metadata": {
    "lines_to_next_cell": 1
   },
   "outputs": [
    {
     "ename": "ModuleNotFoundError",
     "evalue": "No module named 'pandas'",
     "output_type": "error",
     "traceback": [
      "\u001b[0;31m---------------------------------------------------------------------------\u001b[0m",
      "\u001b[0;31mModuleNotFoundError\u001b[0m                       Traceback (most recent call last)",
      "\u001b[0;32m<ipython-input-6-8968e76c8b21>\u001b[0m in \u001b[0;36m<module>\u001b[0;34m\u001b[0m\n\u001b[1;32m      6\u001b[0m \u001b[0;32mimport\u001b[0m \u001b[0mtime\u001b[0m\u001b[0;34m\u001b[0m\u001b[0;34m\u001b[0m\u001b[0m\n\u001b[1;32m      7\u001b[0m \u001b[0;32mimport\u001b[0m \u001b[0mstatistics\u001b[0m\u001b[0;34m\u001b[0m\u001b[0;34m\u001b[0m\u001b[0m\n\u001b[0;32m----> 8\u001b[0;31m \u001b[0;32mimport\u001b[0m \u001b[0mpandas\u001b[0m \u001b[0;32mas\u001b[0m \u001b[0mpd\u001b[0m\u001b[0;34m\u001b[0m\u001b[0;34m\u001b[0m\u001b[0m\n\u001b[0m\u001b[1;32m      9\u001b[0m \u001b[0;32mfrom\u001b[0m \u001b[0mIPython\u001b[0m\u001b[0;34m.\u001b[0m\u001b[0mcore\u001b[0m\u001b[0;34m.\u001b[0m\u001b[0mdisplay\u001b[0m \u001b[0;32mimport\u001b[0m \u001b[0mdisplay\u001b[0m\u001b[0;34m,\u001b[0m \u001b[0mHTML\u001b[0m\u001b[0;34m\u001b[0m\u001b[0;34m\u001b[0m\u001b[0m\n\u001b[1;32m     10\u001b[0m \u001b[0;32mfrom\u001b[0m \u001b[0mscipy\u001b[0m \u001b[0;32mimport\u001b[0m \u001b[0mstats\u001b[0m\u001b[0;34m\u001b[0m\u001b[0;34m\u001b[0m\u001b[0m\n",
      "\u001b[0;31mModuleNotFoundError\u001b[0m: No module named 'pandas'"
     ]
    }
   ],
   "source": [
    "# ## Homework 1\n",
    "# **Mengtong Hu **  \n",
    "# *September 9, 2021*\n",
    "# \n",
    "import math\n",
    "import time\n",
    "import statistics\n",
    "import pandas as pd\n",
    "from IPython.core.display import display, HTML\n",
    "from scipy import stats \n",
    "import numpy as np\n"
   ]
  },
  {
   "cell_type": "markdown",
   "id": "satellite-fruit",
   "metadata": {},
   "source": [
    "## Question 1"
   ]
  },
  {
   "cell_type": "markdown",
   "id": "premier-voltage",
   "metadata": {},
   "source": [
    "***\n",
    "This is _question 0_ for [problem set 1](https://jbhender.github.io/Stats507/F21/ps/ps1.html) of [Stats 507](https://jbhender.github.io/Stats507/F21/).\n",
    "<blockquote>Question 0 is about Markdown.</blockquote>"
   ]
  },
  {
   "cell_type": "markdown",
   "id": "severe-salon",
   "metadata": {},
   "source": [
    "The next question is about the __Fibonnaci sequence__, $F_n=F_{n−2}+F_{n−1}$. In part __a__ we will define a Python function `fib_rec()`.\n",
    "<br>\n",
    "Below is a ...\n",
    "### Level 3 Header\n",
    "Next, we can make a bulleted list:\n",
    "- Item 1\n",
    "    * detail 1\n",
    "    * detail 2\n",
    "- Item 2\n",
    "<br>\n",
    "Finally, we can make an enumerated list:\n",
    "1. Item 1\n",
    "2. Item 2\n",
    "3. Item 3\n",
    "***"
   ]
  },
  {
   "cell_type": "markdown",
   "id": "intelligent-economy",
   "metadata": {},
   "source": [
    "## Question 2 - Fibonnaci Sequence"
   ]
  },
  {
   "cell_type": "markdown",
   "id": "adjacent-characterization",
   "metadata": {},
   "source": [
    "We are going to present five ways to calculate Fibonnaci Sequence and test their correctness using `test_fib()`"
   ]
  },
  {
   "cell_type": "code",
   "execution_count": null,
   "id": "informed-holocaust",
   "metadata": {},
   "outputs": [],
   "source": [
    "def test_fib(funcs):\n",
    "    \"\"\"\n",
    "    Use three test cases to test the correctness of the Fibonnaci Sequence functions:\n",
    "    \n",
    "    Parameters\n",
    "    ----------\n",
    "    funcs : Different Fibonnaci functions to test\n",
    "\n",
    "\n",
    "    Returns\n",
    "    -------\n",
    "    If the function passes all three test cases, pring the message\n",
    "\n",
    "    \"\"\"\n",
    "    assert funcs(7) == 13\n",
    "    assert funcs(11) == 89\n",
    "    assert funcs(13) == 233\n",
    "    return (\"All the test caes have paseed for \" + funcs.__name__)"
   ]
  },
  {
   "cell_type": "markdown",
   "id": "choice-termination",
   "metadata": {},
   "source": [
    "- A recursive function calcuating Fibonnaci sequence"
   ]
  },
  {
   "cell_type": "code",
   "execution_count": 3,
   "id": "eeea5c54",
   "metadata": {
    "lines_to_next_cell": 1
   },
   "outputs": [],
   "source": [
    "def fib_rec(n):\n",
    "    \"\"\"\n",
    "    A recursive function calcuating Fibonnaci sequence\n",
    "\n",
    "    Parameters\n",
    "    ----------\n",
    "    n : integer\n",
    "        the nth Fibonnaci number in the sequence\n",
    "\n",
    "    Returns\n",
    "    -------\n",
    "    recursively calling fib_rec to calculte Fibonnaci number.\n",
    "    Will return the nth Fibonnaci number\n",
    "\n",
    "    \"\"\"\n",
    "    if n == 0:\n",
    "        return 0\n",
    "    if n == 1:\n",
    "        return 1\n",
    "    return(fib_rec(n-2) + fib_rec(n-1))"
   ]
  },
  {
   "cell_type": "markdown",
   "id": "incoming-chassis",
   "metadata": {},
   "source": [
    "- Test recursive function `fib_rec()`"
   ]
  },
  {
   "cell_type": "code",
   "execution_count": 1,
   "id": "7b1ef191",
   "metadata": {},
   "outputs": [
    {
     "ename": "NameError",
     "evalue": "name 'test_fib' is not defined",
     "output_type": "error",
     "traceback": [
      "\u001b[0;31m---------------------------------------------------------------------------\u001b[0m",
      "\u001b[0;31mNameError\u001b[0m                                 Traceback (most recent call last)",
      "\u001b[0;32m<ipython-input-1-e11762a99392>\u001b[0m in \u001b[0;36m<module>\u001b[0;34m\u001b[0m\n\u001b[1;32m      1\u001b[0m \u001b[0;31m# Test the function\u001b[0m\u001b[0;34m\u001b[0m\u001b[0;34m\u001b[0m\u001b[0m\n\u001b[0;32m----> 2\u001b[0;31m \u001b[0mprint\u001b[0m\u001b[0;34m(\u001b[0m\u001b[0mtest_fib\u001b[0m\u001b[0;34m(\u001b[0m\u001b[0mfib_rec\u001b[0m\u001b[0;34m)\u001b[0m\u001b[0;34m)\u001b[0m\u001b[0;34m\u001b[0m\u001b[0;34m\u001b[0m\u001b[0m\n\u001b[0m",
      "\u001b[0;31mNameError\u001b[0m: name 'test_fib' is not defined"
     ]
    }
   ],
   "source": [
    "print(test_fib(fib_rec))"
   ]
  },
  {
   "cell_type": "markdown",
   "id": "employed-norway",
   "metadata": {},
   "source": [
    "- computes $F_n$ by summation using a for loop."
   ]
  },
  {
   "cell_type": "code",
   "execution_count": null,
   "id": "9fbd3c5e",
   "metadata": {
    "lines_to_next_cell": 1
   },
   "outputs": [],
   "source": [
    "def fib_for(n):\n",
    "    \"\"\"\n",
    "    Compute Fibonnaci sequence using a for loop\n",
    "\n",
    "    Parameters\n",
    "    ----------\n",
    "    n : integer\n",
    "        the nth Fibonnaci number in the sequence\n",
    "\n",
    "    Returns\n",
    "    -------\n",
    "    the nth Fibonnaci number in the sequence\n",
    "\n",
    "    \"\"\"\n",
    "    res = [0, 1]\n",
    "    for i in range(n-1):\n",
    "        res.append(res[i] + res[i+1])\n",
    "    return res[n]"
   ]
  },
  {
   "cell_type": "markdown",
   "id": "economic-central",
   "metadata": {},
   "source": [
    "- Test `fib_for()`"
   ]
  },
  {
   "cell_type": "markdown",
   "id": "hourly-telescope",
   "metadata": {},
   "source": [
    "- Test recursive function `fib_for()`"
   ]
  },
  {
   "cell_type": "code",
   "execution_count": null,
   "id": "monetary-tampa",
   "metadata": {},
   "outputs": [],
   "source": [
    "print(test_fib(fib_for))"
   ]
  },
  {
   "cell_type": "markdown",
   "id": "israeli-liberia",
   "metadata": {},
   "source": [
    "- computes $F_n$ by summation using a while loop."
   ]
  },
  {
   "cell_type": "code",
   "execution_count": null,
   "id": "1489aa68",
   "metadata": {
    "lines_to_next_cell": 2
   },
   "outputs": [],
   "source": [
    "def fib_whl(n):\n",
    "    \"\"\"\n",
    "    Compute Fibonnaci sequence using a while loop\n",
    "\n",
    "    Parameters\n",
    "    ----------\n",
    "    n : integer\n",
    "        the nth Fibonnaci number in the sequence\n",
    "\n",
    "    Returns\n",
    "    -------\n",
    "    the nth Fibonnaci number in the sequence\n",
    "\n",
    "    \"\"\"\n",
    "    res = [0, 1]\n",
    "    i = 0\n",
    "    while i<n:\n",
    "        res.append(res[i] + res[i+1])\n",
    "        i = i + 1\n",
    "    return res[n]"
   ]
  },
  {
   "cell_type": "markdown",
   "id": "empty-participant",
   "metadata": {},
   "source": [
    "- Test recursive function `fib_for()`"
   ]
  },
  {
   "cell_type": "code",
   "execution_count": null,
   "id": "induced-theology",
   "metadata": {},
   "outputs": [],
   "source": [
    "print(test_fib(fib_whl))"
   ]
  },
  {
   "cell_type": "markdown",
   "id": "governmental-belly",
   "metadata": {},
   "source": [
    "- computes $F_n$ using the rounding method \n",
    "<br>\n",
    "We need to first define the constant $\\phi$"
   ]
  },
  {
   "cell_type": "code",
   "execution_count": null,
   "id": "anticipated-railway",
   "metadata": {
    "lines_to_next_cell": 1
   },
   "outputs": [],
   "source": [
    "phi = (1 + math.sqrt(5)) / 2"
   ]
  },
  {
   "cell_type": "code",
   "execution_count": 4,
   "id": "sitting-incident",
   "metadata": {
    "lines_to_next_cell": 1
   },
   "outputs": [
    {
     "ename": "NameError",
     "evalue": "name 'test_fib' is not defined",
     "output_type": "error",
     "traceback": [
      "\u001b[0;31m---------------------------------------------------------------------------\u001b[0m",
      "\u001b[0;31mNameError\u001b[0m                                 Traceback (most recent call last)",
      "\u001b[0;32m<ipython-input-4-c911dd678059>\u001b[0m in \u001b[0;36m<module>\u001b[0;34m\u001b[0m\n\u001b[1;32m     14\u001b[0m     \"\"\"\n\u001b[1;32m     15\u001b[0m     \u001b[0;32mreturn\u001b[0m \u001b[0;34m(\u001b[0m\u001b[0mint\u001b[0m\u001b[0;34m(\u001b[0m\u001b[0mround\u001b[0m\u001b[0;34m(\u001b[0m\u001b[0mphi\u001b[0m \u001b[0;34m**\u001b[0m \u001b[0mn\u001b[0m \u001b[0;34m/\u001b[0m \u001b[0mmath\u001b[0m\u001b[0;34m.\u001b[0m\u001b[0msqrt\u001b[0m\u001b[0;34m(\u001b[0m\u001b[0;36m5\u001b[0m\u001b[0;34m)\u001b[0m\u001b[0;34m,\u001b[0m \u001b[0mndigits\u001b[0m\u001b[0;34m=\u001b[0m\u001b[0;34m(\u001b[0m\u001b[0;36m0\u001b[0m\u001b[0;34m)\u001b[0m\u001b[0;34m)\u001b[0m\u001b[0;34m)\u001b[0m\u001b[0;34m)\u001b[0m\u001b[0;34m\u001b[0m\u001b[0;34m\u001b[0m\u001b[0m\n\u001b[0;32m---> 16\u001b[0;31m \u001b[0mprint\u001b[0m\u001b[0;34m(\u001b[0m\u001b[0mtest_fib\u001b[0m\u001b[0;34m(\u001b[0m\u001b[0mfib_rnd\u001b[0m\u001b[0;34m)\u001b[0m\u001b[0;34m)\u001b[0m\u001b[0;34m\u001b[0m\u001b[0;34m\u001b[0m\u001b[0m\n\u001b[0m",
      "\u001b[0;31mNameError\u001b[0m: name 'test_fib' is not defined"
     ]
    }
   ],
   "source": [
    "def fib_rnd(n):\n",
    "    \"\"\"\n",
    "    Compute Fibonnaci sequence using the rounding function\n",
    "\n",
    "    Parameters\n",
    "    ----------\n",
    "    n : integer\n",
    "        the nth Fibonnaci number in the sequence\n",
    "\n",
    "    Returns\n",
    "    -------\n",
    "    the nth Fibonnaci number in the sequence\n",
    "\n",
    "    \"\"\"\n",
    "    return (int(round(phi ** n / math.sqrt(5), ndigits=(0))))"
   ]
  },
  {
   "cell_type": "markdown",
   "id": "satisfied-numbers",
   "metadata": {},
   "source": [
    "- Test recursive function `fib_rnd()`"
   ]
  },
  {
   "cell_type": "code",
   "execution_count": null,
   "id": "cellular-nicaragua",
   "metadata": {},
   "outputs": [],
   "source": [
    "print(test_fib(fib_rnd))  "
   ]
  },
  {
   "cell_type": "code",
   "execution_count": null,
   "id": "77b42ebc",
   "metadata": {
    "lines_to_next_cell": 1
   },
   "outputs": [],
   "source": [
    "def fib_flr(n):\n",
    "    \"\"\"\n",
    "    Compute Fibonnaci sequence using the flooring function\n",
    "\n",
    "    Parameters\n",
    "    ----------\n",
    "    n : integer\n",
    "        the nth Fibonnaci number in the sequence\n",
    "\n",
    "    Returns\n",
    "    -------\n",
    "    the nth Fibonnaci number in the sequence\n",
    "\n",
    "    \"\"\"\n",
    "    return (int(phi ** n / math.sqrt(5) + 1/2))    "
   ]
  },
  {
   "cell_type": "markdown",
   "id": "adverse-sleep",
   "metadata": {},
   "source": [
    "- Test flooring function `fib_flr()`"
   ]
  },
  {
   "cell_type": "code",
   "execution_count": null,
   "id": "96375ecb",
   "metadata": {
    "lines_to_next_cell": 1
   },
   "outputs": [],
   "source": [
    "print(test_fib(fib_flr))   "
   ]
  },
  {
   "cell_type": "markdown",
   "id": "demanding-french",
   "metadata": {},
   "source": [
    "Now, we benchmark the running time of the three methods. For each function `fib_***()`and __n__ , we repeat the procedure 10 times and take the median runtime of the 10 repetitions."
   ]
  },
  {
   "cell_type": "code",
   "execution_count": null,
   "id": "ce763e6b",
   "metadata": {
    "lines_to_next_cell": 1
   },
   "outputs": [],
   "source": [
    "def time_fib(funcs, n):\n",
    "    \"\"\"\n",
    "    Compute the median computation time of a Fibonnaci function\n",
    "\n",
    "    Parameters\n",
    "    ----------\n",
    "    n : integer\n",
    "        the nth Fibonnaci number in the sequence\n",
    "    funcs : Different Fibonnaci functions to test\n",
    "\n",
    "    Returns\n",
    "    -------\n",
    "    the median runtime in ms over 10 repetitions \n",
    "    of the same function call\n",
    "\n",
    "    \"\"\"\n",
    "    time_res = []\n",
    "    \n",
    "    for i in range(10):\n",
    "        start = time.perf_counter()\n",
    "        funcs(n) \n",
    "        time_res.append(time.perf_counter() - start)\n",
    "    return ( 1000 * statistics.median(time_res) )"
   ]
  },
  {
   "cell_type": "markdown",
   "id": "blank-equality",
   "metadata": {},
   "source": [
    "Use a dictionay `process_time` to store the median time of each of the five methods:"
   ]
  },
  {
   "cell_type": "code",
   "execution_count": null,
   "id": "3b05be58",
   "metadata": {
    "lines_to_next_cell": 2
   },
   "outputs": [],
   "source": [
    "process_time = {'Recursive':[],\n",
    "                'For Loop':[],\n",
    "                'While Loop':[],\n",
    "                'Rounding':[],\n",
    "                'Truncating':[]}   \n",
    "for n in [5*i for i in range(1, 6)]:\n",
    " \n",
    "    process_time['Recursive'].append(time_fib(fib_rec,n))\n",
    "    process_time['For Loop'].append(time_fib(fib_for,n))\n",
    "    process_time['While Loop'].append(time_fib(fib_whl,n))\n",
    "    process_time['Rounding'].append(time_fib(fib_rnd,n))\n",
    "    process_time['Truncating'].append(time_fib(fib_flr,n))"
   ]
  },
  {
   "cell_type": "markdown",
   "id": "parliamentary-minnesota",
   "metadata": {},
   "source": [
    "Display the resutls in a table"
   ]
  },
  {
   "cell_type": "code",
   "execution_count": null,
   "id": "568765b4",
   "metadata": {},
   "outputs": [],
   "source": [
    "print(process_time)\n",
    "process_time_tb = pd.DataFrame.from_dict(process_time, orient = 'index',\n",
    "                                         columns=['n = 5', 'n = 10', 'n = 15', 'n =20', 'n = 25'])\n",
    "display(HTML(process_time_tb.to_html()))\n",
    "### "
   ]
  },
  {
   "cell_type": "markdown",
   "id": "biblical-liabilities",
   "metadata": {},
   "source": [
    "## Question 3 - Pascal’s Triangle"
   ]
  },
  {
   "cell_type": "markdown",
   "id": "smoking-synthetic",
   "metadata": {},
   "source": [
    "In `compute_pascal`, we compute an arbitrary row of the Pascal’s Triangle"
   ]
  },
  {
   "cell_type": "code",
   "execution_count": null,
   "id": "forward-sterling",
   "metadata": {},
   "outputs": [],
   "source": [
    "def compute_pascal(n):\n",
    "    \"\"\"\n",
    "    Compute the nth row of Pascal’s triangle\n",
    "\n",
    "    Parameters\n",
    "    ----------\n",
    "    n : integer\n",
    "        which row too compute\n",
    "\n",
    "    Returns\n",
    "    -------\n",
    "    pascal_n : a list of integers\n",
    "        The nth row of Pascal’s triangle.\n",
    "\n",
    "    \"\"\"\n",
    "    pascal_n = [1]\n",
    "    prev = 1\n",
    "    for k in range(1,n+1):\n",
    "        cur = prev * (n+1-k)/k\n",
    "        pascal_n.append(int(cur))\n",
    "        prev = cur\n",
    "    return(pascal_n)\n",
    "print(compute_pascal(3))"
   ]
  },
  {
   "cell_type": "markdown",
   "id": "assisted-motorcycle",
   "metadata": {},
   "source": [
    "In `print_pascal`, we print the first __n__ rows of the Pascal’s Triangle."
   ]
  },
  {
   "cell_type": "code",
   "execution_count": null,
   "id": "e29abb63",
   "metadata": {
    "lines_to_next_cell": 1
   },
   "outputs": [],
   "source": [
    "def print_pascal(n):\n",
    "    \"\"\"\n",
    "    print the firt n rows of Pascal’s triangle with proper spacing\n",
    "\n",
    "    Parameters\n",
    "    ----------\n",
    "    n : integer\n",
    "        The total numbers of rows \n",
    "\n",
    "    Returns\n",
    "    -------\n",
    "    None, but will print output\n",
    "        First n rows of Pascal’s triangle.\n",
    "\n",
    "    \"\"\"\n",
    "    for i in range(n) :\n",
    "        total_width = n * 4 + 1\n",
    "        front_space = (total_width - (i * 4)) // 2\n",
    "        print(' ' * front_space, end = '')\n",
    "        print('   '.join(map(str,compute_pascal(i))))\n",
    "\n",
    "    return"
   ]
  },
  {
   "cell_type": "markdown",
   "id": "scheduled-forge",
   "metadata": {},
   "source": [
    "Using `print_pascal` to print first 10 rows of the pascal triangle"
   ]
  },
  {
   "cell_type": "code",
   "execution_count": null,
   "id": "870b6b97",
   "metadata": {
    "lines_to_next_cell": 1
   },
   "outputs": [],
   "source": [
    "print_pascal(10)"
   ]
  },
  {
   "cell_type": "markdown",
   "id": "smoking-handbook",
   "metadata": {},
   "source": [
    "### Question 3\n",
    "#### part a"
   ]
  },
  {
   "cell_type": "code",
   "execution_count": null,
   "id": "b7255846",
   "metadata": {
    "lines_to_next_cell": 1
   },
   "outputs": [],
   "source": [
    "def check_input(a) :\n",
    "    \"\"\"\n",
    "    Check if the input is 1-d numpy array or coercable to 1-d array\n",
    "\n",
    "    Parameters\n",
    "    ----------\n",
    "    a : any obejct\n",
    "\n",
    "    Returns\n",
    "    -------\n",
    "    res : a 1-d numpy array\n",
    "          or raise an error\n",
    "          \n",
    "    \"\"\""
   ]
  },
  {
   "cell_type": "code",
   "execution_count": null,
   "id": "01a71d4e",
   "metadata": {
    "lines_to_next_cell": 1
   },
   "outputs": [],
   "source": [
    "def ci_mean(a, level, output_format= True):\n",
    "    \"\"\"\n",
    "    print the firt n rows of Pascal’s triangle with proper spacing\n",
    "\n",
    "    Parameters\n",
    "    ----------\n",
    "    a : any obejct\n",
    "        the data which we constrcut confidence interval for\n",
    "    output_format : string, optional\n",
    "             determine the output format\n",
    "             Set to 'None' if want to return a dicionary. The Default is True.\n",
    "                 \n",
    "    level : int\n",
    "            confidence interval\n",
    "\n",
    "\n",
    "    Returns\n",
    "    -------\n",
    "    res : string, Default\n",
    "          preformatted\n",
    "    res : dictionary, when format = 'None'\n",
    "          with keys 'est', 'lwr', 'upr', and  'level'\n",
    "          \n",
    "    \"\"\"\n",
    "    try:\n",
    "        a = np.array(a)\n",
    "        a.astype(float)\n",
    "\n",
    "    except ValueError:         \n",
    "        print ('ValueError: Data input invalid. Use 1d Numpy arrary or objects are coercable to 1d Numpy arrary.')\n",
    "        return\n",
    "\n",
    "    n = len(a)\n",
    "    # ddof parameter set to 1 in np.std() gives the samples standard deviation\n",
    "    se = np.std(a, ddof=1) / math.sqrt(n)\n",
    "    tail_prop = (100 - level) / 2 / 100\n",
    "    z_val = - stats.norm.ppf(tail_prop)\n",
    "    mean = sum(a) / n\n",
    "    lwr, upr  = mean - z_val * se, mean + z_val * se\n",
    "    res = {'est' : round(mean, ndigits = 2), 'lwr' : round(lwr, ndigits = 2), \n",
    "           'upr' : round(upr, ndigits = 2), 'level' : level}\n",
    "    ci_str = \"{est:.2f}[{level:.0f}%CI :  ({lwr:.2f},{upr:.2f})]\"\n",
    "    #unpack the values of the dictionary and apply the format\n",
    "    formatted_res = ci_str.format(**res)\n",
    "    if output_format :\n",
    "        res = formatted_res\n",
    "    \n",
    "    return(res)"
   ]
  },
  {
   "cell_type": "code",
   "execution_count": null,
   "id": "c0f00d0a",
   "metadata": {
    "lines_to_next_cell": 2
   },
   "outputs": [],
   "source": [
    "print(ci_mean(np.array([12, 12, 13, 13, 15, 16, 17, 22, 23, 25, 26, 27, 28, 28, 29]), 95))\n",
    "print(ci_mean(\"haa\", 95))\n",
    "np.asarray(\"haa\")\n",
    "## part b\n",
    "def ci_proportion(a, level , Method,output_format = True ):\n",
    "    \"\"\"\n",
    "    print the firt n rows of Pascal’s triangle with proper spacing\n",
    "\n",
    "    Parameters\n",
    "    ----------\n",
    "    a : any obejct\n",
    "        the data which we constrcut confidence interval for\n",
    "    output_format : string, optional\n",
    "             determine the output format\n",
    "             Set to 'None' if want to return a dicionary. The Default is True.\n",
    "                 \n",
    "    level : int\n",
    "            confidence interval\n",
    "    Method : string\n",
    "             the method used to compute the CI. Possible values include \n",
    "             'Standard', 'Clopper-Pearson', 'Jeffrey', 'Agresti-Coull'\n",
    "\n",
    "    Returns\n",
    "    -------\n",
    "    res : string, Default\n",
    "          preformatted\n",
    "    res : dictionary, when format = 'None'\n",
    "          with keys 'est', 'lwr', 'upr', and  'level'\n",
    "          \n",
    "    \"\"\"\n",
    "    try:\n",
    "        a = np.array(a)\n",
    "        a.astype(float)\n",
    "    except ValueError:         \n",
    "        print('TypeError: Data input invalid. Use 1d Numpy arrary or objects are coercable to 1d Numpy arrary')\n",
    "        return()\n",
    "    n = len(a)\n",
    "    x = sum(a)\n",
    "    p = x / n\n",
    "    alpha = 1 - level / 100\n",
    "    if Method == \"Standard\":\n",
    "        if n * p <= 12 or n * (1 - p) <= 12 :\n",
    "            raise ValueError(\"Proportion or same size too small and \n",
    "                             not satisfying n * p > 12 and n * (1 - p) > 12\")\n",
    "        else: \n",
    "            tail_prop = (100 - level) / 2 / 100\n",
    "            z_val = - stats.norm.ppf(tail_prop)\n",
    "            se = math.sqrt(p * (1-p) / n)\n",
    "            lwr, upr  = p - z_val * se, p + z_val * se\n",
    "    if Method == \"Clopper-Pearson\":\n",
    "        \n",
    "        lwr, upr = stats.beta.ppf(alpha /2 , x , n - x + 1) , stats.beta.ppf(1 - alpha /2 , x + 1 , n - x)\n",
    "    if Method == \"Jeffrey\":\n",
    "        lwr, upr = max(stats.beta.ppf(alpha /2 , x , n - x + 1), 0) , min(stats.beta.ppf(1 - alpha /2 , x + 1 , n - x), 1)\n",
    "        \n",
    "   \n",
    "    \n",
    "   \n",
    "    \n",
    "   \n",
    "    \n",
    "   res = {'est' : round(mean, ndigits = 2), 'lwr' : round(lwr, ndigits = 2), \n",
    "          'upr' : round(upr, ndigits = 2), 'level' : level}\n",
    "    ci_str = \"{est:.2f}[{level:.0f}%CI :  ({lwr:.2f},{upr:.2f})]\"\n",
    "   #n :   the number of independent and iid Bernoulli trials\n",
    "   # x :  the number of sucesses"
   ]
  }
 ],
 "metadata": {
  "jupytext": {
   "cell_metadata_json": true,
   "notebook_metadata_filter": "markdown"
  },
  "kernelspec": {
   "display_name": "Python 3",
   "language": "python",
   "name": "python3"
  },
  "language_info": {
   "codemirror_mode": {
    "name": "ipython",
    "version": 3
   },
   "file_extension": ".py",
   "mimetype": "text/x-python",
   "name": "python",
   "nbconvert_exporter": "python",
   "pygments_lexer": "ipython3",
   "version": "3.9.7"
  },
  "markdown": {
   "extensions": "footnotes"
  }
 },
 "nbformat": 4,
 "nbformat_minor": 5
}
