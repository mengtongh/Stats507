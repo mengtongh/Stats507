{
 "cells": [
  {
   "cell_type": "code",
   "execution_count": 3,
   "id": "99992107",
   "metadata": {},
   "outputs": [],
   "source": [
    "import numpy as np\n",
    "import pandas as pd\n",
    "from timeit import Timer\n",
    "from collections import defaultdict\n",
    "from IPython.core.display import display, HTML"
   ]
  },
  {
   "cell_type": "markdown",
   "id": "e5390280",
   "metadata": {},
   "source": [
    "### Question 3:"
   ]
  },
  {
   "cell_type": "code",
   "execution_count": 13,
   "id": "802974f1",
   "metadata": {
    "lines_to_next_cell": 2
   },
   "outputs": [],
   "source": [
    "fields = ['SEQN', 'RIDAGEYR', 'RIAGENDR', 'RIDRETH3','DMDEDUC2','DMDMARTL','RIDSTATR', \n",
    "          'SDMVPSU', 'SDMVSTRA', 'WTMEC2YR', 'WTINT2YR' ]"
   ]
  },
  {
   "cell_type": "code",
   "execution_count": 17,
   "id": "d6537684",
   "metadata": {},
   "outputs": [],
   "source": [
    "# Read the dataset with the specified fields\n",
    "df1112 = pd.read_sas(\n",
    "    'https://wwwn.cdc.gov/Nchs/Nhanes/2011-2012/DEMO_G.XPT')[fields]\n",
    "df1112['cohort'] = '2011-2012'\n",
    "df1314 = pd.read_sas(\n",
    "    'https://wwwn.cdc.gov/Nchs/Nhanes/2013-2014/DEMO_H.XPT')[fields]\n",
    "df1314['cohort'] = '2013-2014'\n",
    "df1516 = pd.read_sas(\n",
    "    'https://wwwn.cdc.gov/Nchs/Nhanes/2015-2016/DEMO_I.XPT')[fields]\n",
    "df1516['cohort'] = '2015-2016'\n",
    "\n",
    "df1718 = pd.read_sas(\n",
    "    'https://wwwn.cdc.gov/Nchs/Nhanes/2017-2018/DEMO_J.XPT')[fields]\n",
    "df1718['cohort'] = '2017-2018'\n",
    "Demo = df1112.append(df1314).append(df1516).append(df1718)"
   ]
  },
  {
   "cell_type": "code",
   "execution_count": 18,
   "id": "ff1b05ad",
   "metadata": {},
   "outputs": [],
   "source": [
    "# Rename variables\n",
    "Demo = Demo.rename({'SEQN' : 'id' , 'RIDAGEYR' : 'age',\n",
    "            'RIAGENDR' : 'gender',\n",
    "            'RIDRETH3' : 'race',\n",
    "            'DMDEDUC2' : 'education','DMDMARTL' : 'marital_status',\n",
    "            'RIDSTATR' : 'interview_exam_status', 'SDMVPSU' : 'psu', \n",
    "            'SDMVSTRA' : 'stratum', 'WTMEC2YR' : 'two_year_mec_wt' , \n",
    "            'WTINT2YR' : 'twoyr_interview_wt'}, axis = 1)\n",
    "# Changed variables for appropriate category names\n",
    "Demo['gender'] = pd.Categorical(Demo['gender'].replace( {1: 'Male', 2: 'Female'}))\n",
    "Demo['race'] = pd.Categorical(Demo['race'].replace(\n",
    "                            {1: 'Mexican American', \n",
    "                            2: 'Other Hispanic', \n",
    "                            3: 'Non-Hispanic White',\n",
    "                            4: 'Non-Hispanic Black',\n",
    "                            6: 'Non-Hispanic Asian',\n",
    "                            7: 'Other Race - Including Multi-Racial',\n",
    "                            -1: 'Missing'}))\n",
    "\n",
    "Demo['education'] = pd.Categorical(Demo['education'].replace(\n",
    "                    {1: 'Less than 9th grade', \n",
    "                    2: '9-11th grade (Includes 12th grade with no diploma)', \n",
    "                    3: 'High school graduate/GED or equivalent',\n",
    "                    4: 'Some college or AA degree',\n",
    "                    5: 'College graduate or above',\n",
    "                    7: 'Refused',\n",
    "                    9: 'Unknown',\n",
    "                    -1: 'Missing'}))\n",
    "\n",
    "Demo['marital_status'] = pd.Categorical(Demo['marital_status'].replace(\n",
    "                        {1: 'Married', \n",
    "                        2: 'Widowed', \n",
    "                        3: 'Divorced',\n",
    "                        4: 'Separated',\n",
    "                        5: 'Never married',\n",
    "                        6: 'Living with partner',\n",
    "                        77: 'Refused',\n",
    "                        99: 'Unknown',\n",
    "                        -1: 'Missing'}))\n",
    "\n",
    "Demo['interview_exam_status'] = pd.Categorical(Demo['interview_exam_status']\n",
    "                                .replace(\n",
    "                                {1: 'Interviewed only', \n",
    "                                2: 'Both interviewed and MEC examined', \n",
    "                                -1: 'Missing'}))"
   ]
  },
  {
   "cell_type": "code",
   "execution_count": 19,
   "id": "48152f20",
   "metadata": {},
   "outputs": [
    {
     "data": {
      "text/plain": [
       "Index(['id', 'age', 'gender', 'race', 'education', 'marital_status',\n",
       "       'interview_exam_status', 'psu', 'stratum', 'two_year_mec_wt',\n",
       "       'twoyr_interview_wt', 'cohort'],\n",
       "      dtype='object')"
      ]
     },
     "execution_count": 19,
     "metadata": {},
     "output_type": "execute_result"
    }
   ],
   "source": [
    "Demo.columns"
   ]
  },
  {
   "cell_type": "code",
   "execution_count": 20,
   "id": "4c9f78e5",
   "metadata": {},
   "outputs": [],
   "source": [
    "# Change the rest of the float varaibels into integer variables \n",
    "fields_to_int = ['id', 'age', 'psu', 'stratum']\n",
    "Demo[fields_to_int] = Demo[fields_to_int].applymap(np.int32)\n",
    "Demo.to_pickle('./Demo_pickle.pkl')"
   ]
  },
  {
   "cell_type": "markdown",
   "id": "6962a273",
   "metadata": {},
   "source": [
    "The Denitition Dataset:"
   ]
  },
  {
   "cell_type": "code",
   "execution_count": 16,
   "id": "1144ea67",
   "metadata": {},
   "outputs": [
    {
     "name": "stderr",
     "output_type": "stream",
     "text": [
      "/usr/local/anaconda3/envs/py39/lib/python3.9/site-packages/pandas/io/sas/sas_xport.py:475: PerformanceWarning: DataFrame is highly fragmented.  This is usually the result of calling `frame.insert` many times, which has poor performance.  Consider joining all columns at once using pd.concat(axis=1) instead.  To get a de-fragmented frame, use `newframe = frame.copy()`\n",
      "  df[x] = v\n"
     ]
    }
   ],
   "source": [
    "# Read the dataset \n",
    "df1112_dent = pd.read_sas(\n",
    "    'https://wwwn.cdc.gov/Nchs/Nhanes/2011-2012/OHXDEN_G.XPT')"
   ]
  },
  {
   "cell_type": "code",
   "execution_count": 18,
   "id": "829010e8",
   "metadata": {},
   "outputs": [],
   "source": [
    "# Specify the fields we are interested in\n",
    "fields_dent = ['SEQN','OHDDESTS'] + \\\n",
    "            [ele for ele in df1112_dent.columns.values[4:64]]"
   ]
  },
  {
   "cell_type": "code",
   "execution_count": 19,
   "id": "1ef855c8",
   "metadata": {},
   "outputs": [],
   "source": [
    "df1112_dent = df1112_dent[fields_dent]\n",
    "df1314_dent = pd.read_sas(\n",
    "    'https://wwwn.cdc.gov/Nchs/Nhanes/2013-2014/OHXDEN_H.XPT')[fields_dent]"
   ]
  },
  {
   "cell_type": "code",
   "execution_count": 20,
   "id": "ea187af2",
   "metadata": {},
   "outputs": [],
   "source": [
    "df1516_dent = pd.read_sas(\n",
    "      'https://wwwn.cdc.gov/Nchs/Nhanes/2015-2016/OHXDEN_I.XPT')[fields_dent]"
   ]
  },
  {
   "cell_type": "code",
   "execution_count": 21,
   "id": "fe0e382e",
   "metadata": {},
   "outputs": [],
   "source": [
    "df1718_dent = pd.read_sas(\n",
    "    'https://wwwn.cdc.gov/Nchs/Nhanes/2017-2018/OHXDEN_J.XPT')[fields_dent]"
   ]
  },
  {
   "cell_type": "code",
   "execution_count": 22,
   "id": "cdb7ff1a",
   "metadata": {},
   "outputs": [],
   "source": [
    "# Add an indictor 'cohort' for the year of the sampling\n",
    "df1112_dent['cohort'] = '2011-2012'\n",
    "df1314_dent['cohort'] = '2013-2014'\n",
    "df1516_dent['cohort'] = '2015-2016'\n",
    "df1718_dent['cohort'] = '2017-2018'"
   ]
  },
  {
   "cell_type": "code",
   "execution_count": 23,
   "id": "73ee9d94",
   "metadata": {},
   "outputs": [],
   "source": [
    "Dent = df1112_dent.append(df1314_dent).append(df1516_dent).append(df1718_dent)"
   ]
  },
  {
   "cell_type": "code",
   "execution_count": 24,
   "id": "4359bc94",
   "metadata": {},
   "outputs": [],
   "source": [
    "# Change the data column names to lower case \n",
    "Dent.columns = Dent.columns.str.lower()"
   ]
  },
  {
   "cell_type": "code",
   "execution_count": 25,
   "id": "769c7630",
   "metadata": {},
   "outputs": [],
   "source": [
    "# Create naming dictionaries for all data column \n",
    "d1 = {'seqn':'id','ohddests':'dentition status code'}\n",
    "d2 = dict(zip(Dent.columns[2:34], \n",
    "    ['tooth count {}'.format(x+1) for x in range(len(Dent.columns[2:34]))]))\n",
    "\n",
    "d3 = dict(zip(Dent.columns[34:48], \n",
    "    ['Coronal Caries Tooth Count {}'.\n",
    "    format(x+2) for x in range(len(Dent.columns[34:48]))]))\n",
    "\n",
    "d4 = dict(zip(Dent.columns[49:64], \n",
    "    ['Coronal Caries Tooth Count {}'.format(x) for x in range(19,32)]))\n",
    "d1.update(d2)\n",
    "d1.update(d3)\n",
    "d1.update(d4)\n",
    "# Rename the data columns\n",
    "Dent = Dent.rename(d1,axis=1)"
   ]
  },
  {
   "cell_type": "code",
   "execution_count": 26,
   "id": "22ead746",
   "metadata": {},
   "outputs": [],
   "source": [
    "# Add category names for the categorical variables\n",
    "Dent['dentition status code'] = pd.Categorical(Dent['dentition status code']\n",
    "                            .replace({1: 'Complete', \n",
    "                            2: 'Partial', 3:'Not Done'}))\n",
    "for i in range(2, 34):\n",
    "    Dent[str(Dent.columns[i])] = pd.Categorical(Dent[str(Dent.columns[i])].\n",
    "    replace(\n",
    "        {1: 'Primary tooth (deciduous) present',\n",
    "         2: 'Permanent tooth present', \n",
    "         3: 'Dental implant',\n",
    "         4: 'Tooth not present', \n",
    "         5: 'Permanent dental root fragment present',\n",
    "         9: 'Could not assess',\n",
    "        -1: 'Missing'}))\n",
    "\n",
    "for i in range(34, 62):\n",
    "    Dent[str(Dent.columns[i])] = pd.Categorical(Dent[str(Dent.columns[i])].\n",
    "    replace(\n",
    "        {b'D': 'Sound primary tooth',\n",
    "         b'E': 'Missing due to dental disease', \n",
    "         b'J': 'Permanent root tip is present but \\\n",
    "             no restorative replacement',\n",
    "         b'K': 'Primary tooth with surface condition (s)', \n",
    "         b'M': 'Missing due to other causes',\n",
    "         b'P': 'Missing due to dental disease but replaced \\\n",
    "             by a removable restoration',\n",
    "         b'Q': 'Missing due to other causes but replaced by \\\n",
    "             a removable restoration',\n",
    "         b'R': 'Missing due to dental disease, but replaced \\\n",
    "             by a fixed restoration',\n",
    "         b'S': 'Sound permanent tooth',\n",
    "         b'T': 'Permanent root tip is present but a restorative \\\n",
    "              replacement is present',\n",
    "         b'U': 'Unerupted',\n",
    "         b'X': 'Missing due to other causes, but replaced by \\\n",
    "              a fixed restoration',\n",
    "         b'Y': 'Tooth present, condition cannot be assessed',\n",
    "         b'Z': 'Permanent tooth with surface condition (s)',\n",
    "         b'': 'Missing'}))"
   ]
  },
  {
   "cell_type": "code",
   "execution_count": 27,
   "id": "c1dea560",
   "metadata": {},
   "outputs": [],
   "source": [
    "# Write to a pickle object\n",
    "fields_to_int = ['id']\n",
    "Dent[fields_to_int] = Dent[fields_to_int].applymap(np.int32)\n",
    "Dent.to_pickle('./Dent_pickle.pkl')"
   ]
  },
  {
   "cell_type": "code",
   "execution_count": 28,
   "id": "2411c651",
   "metadata": {},
   "outputs": [
    {
     "name": "stdout",
     "output_type": "stream",
     "text": [
      "The number of cases in the NHANES demographic  datasets from 2011 to 2018 is: 39156\n",
      "The number of cases in the NHANES oral health  and dentition datasets from 2011 to 2018 is: 35909\n"
     ]
    }
   ],
   "source": [
    "print('The number of cases in the NHANES demographic ',\n",
    "      'datasets from 2011 to 2018 is:', Demo['id'].nunique())\n",
    "print('The number of cases in the NHANES oral health ', \n",
    "      'and dentition datasets from 2011 to 2018 is:', Dent['id'].nunique())"
   ]
  },
  {
   "cell_type": "code",
   "execution_count": null,
   "id": "98117c4f",
   "metadata": {},
   "outputs": [],
   "source": []
  }
 ],
 "metadata": {
  "jupytext": {
   "cell_metadata_json": true,
   "formats": "ipynb,py",
   "notebook_metadata_filter": "markdown"
  },
  "kernelspec": {
   "display_name": "Python 3 (ipykernel)",
   "language": "python",
   "name": "python3"
  },
  "language_info": {
   "codemirror_mode": {
    "name": "ipython",
    "version": 3
   },
   "file_extension": ".py",
   "mimetype": "text/x-python",
   "name": "python",
   "nbconvert_exporter": "python",
   "pygments_lexer": "ipython3",
   "version": "3.9.7"
  },
  "markdown": {
   "extensions": "footnotes"
  }
 },
 "nbformat": 4,
 "nbformat_minor": 5
}
